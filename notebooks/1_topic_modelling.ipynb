{
 "cells": [
  {
   "cell_type": "code",
   "execution_count": 9,
   "metadata": {},
   "outputs": [
    {
     "name": "stderr",
     "output_type": "stream",
     "text": [
      "[nltk_data] Downloading package stopwords to\n",
      "[nltk_data]     C:\\Users\\olkos\\AppData\\Roaming\\nltk_data...\n",
      "[nltk_data]   Package stopwords is already up-to-date!\n",
      "[nltk_data] Downloading package punkt to\n",
      "[nltk_data]     C:\\Users\\olkos\\AppData\\Roaming\\nltk_data...\n",
      "[nltk_data]   Package punkt is already up-to-date!\n",
      "[nltk_data] Downloading package wordnet to\n",
      "[nltk_data]     C:\\Users\\olkos\\AppData\\Roaming\\nltk_data...\n",
      "[nltk_data]   Package wordnet is already up-to-date!\n"
     ]
    }
   ],
   "source": [
    "# data visualisation and manipulation\n",
    "import pandas as pd #import the Pandas library to read the CSV and save it in a data frame\n",
    "import matplotlib.pyplot as plt\n",
    "\n",
    "#import nltk #preprocessing\n",
    "import nltk\n",
    "# nltk.download('stopwords')\n",
    "# nltk.download('punkt')\n",
    "# nltk.download('wordnet')\n",
    "\n",
    "from nltk import word_tokenize, sent_tokenize # tokenizing\n",
    "from nltk.stem import WordNetLemmatizer  # lammatizer from WordNet\n",
    "from nltk.corpus import stopwords  #stopwords\n",
    "import emoji\n",
    "\n",
    "# vectorizers for creating the document-term-matrix (DTM)\n",
    "from sklearn.feature_extraction.text import TfidfVectorizer, CountVectorizer\n",
    "\n",
    "# (?) stop-words: this list includes 'not'\n",
    "# stop_words=set(nltk.corpus.stopwords.words('english'))"
   ]
  },
  {
   "cell_type": "code",
   "execution_count": 16,
   "metadata": {},
   "outputs": [],
   "source": [
    "stopwords = ['a', 'about', 'an', 'and', 'are', 'as', 'at', 'be', 'been', 'but', 'by', 'can', \\\n",
    "             'even', 'ever', 'for', 'from', 'get', 'had', 'has', 'have', 'he', 'her', 'hers', 'his', \\\n",
    "             'how', 'i', 'if', 'in', 'into', 'is', 'it', 'its', 'just', 'me', 'my', 'of', 'on', 'or', \\\n",
    "             'see', 'seen', 'she', 'so', 'than', 'that', 'the', 'their', 'there', 'they', 'this', \\\n",
    "             'to', 'was', 'we', 'were', 'what', 'when', 'which', 'who', 'will', 'with', 'you']"
   ]
  },
  {
   "cell_type": "code",
   "execution_count": 12,
   "metadata": {},
   "outputs": [
    {
     "data": {
      "text/html": [
       "<div>\n",
       "<style scoped>\n",
       "    .dataframe tbody tr th:only-of-type {\n",
       "        vertical-align: middle;\n",
       "    }\n",
       "\n",
       "    .dataframe tbody tr th {\n",
       "        vertical-align: top;\n",
       "    }\n",
       "\n",
       "    .dataframe thead th {\n",
       "        text-align: right;\n",
       "    }\n",
       "</style>\n",
       "<table border=\"1\" class=\"dataframe\">\n",
       "  <thead>\n",
       "    <tr style=\"text-align: right;\">\n",
       "      <th></th>\n",
       "      <th>order_id</th>\n",
       "      <th>feedback_id</th>\n",
       "      <th>rider_id</th>\n",
       "      <th>driver_id</th>\n",
       "      <th>created_at</th>\n",
       "      <th>stars</th>\n",
       "      <th>custom_comment</th>\n",
       "    </tr>\n",
       "  </thead>\n",
       "  <tbody>\n",
       "    <tr>\n",
       "      <th>0</th>\n",
       "      <td>0d47c51b-a1df-4901-97eb-58ee193d9655</td>\n",
       "      <td>b89cf504-f2fb-4ad4-a113-1112f6da5265</td>\n",
       "      <td>9d9e0f25-a383-444e-afe7-01ed085d216f</td>\n",
       "      <td>d6c92134-8f65-4da4-b6ab-a2a5c4bbaf9f</td>\n",
       "      <td>2023-03-01 01:49:32</td>\n",
       "      <td>1</td>\n",
       "      <td>very not polite</td>\n",
       "    </tr>\n",
       "    <tr>\n",
       "      <th>1</th>\n",
       "      <td>ae23c8d2-496a-47a8-8fb4-bd48f3e6f342</td>\n",
       "      <td>93748ca6-e77a-46e9-8460-f9c65b3781f6</td>\n",
       "      <td>576e7518-c1af-4697-9182-4251a488cbec</td>\n",
       "      <td>a635ef51-6da4-446a-9161-45d0a48ec2d2</td>\n",
       "      <td>2023-03-01 03:40:14</td>\n",
       "      <td>3</td>\n",
       "      <td>not a pleasant interaction overall. The driver...</td>\n",
       "    </tr>\n",
       "    <tr>\n",
       "      <th>2</th>\n",
       "      <td>def53af0-8c66-4759-ac16-7143b9e116d5</td>\n",
       "      <td>7edf5cf5-aa9f-4be6-8ca7-cd03c1aa66c0</td>\n",
       "      <td>e24c35a0-1cbf-43a1-9cae-171a89d1e7c1</td>\n",
       "      <td>57c5de49-2a44-46f8-800c-71a39490ea92</td>\n",
       "      <td>2023-03-01 06:46:58</td>\n",
       "      <td>1</td>\n",
       "      <td>Driver is a theif. Our travel cost is 154 and ...</td>\n",
       "    </tr>\n",
       "    <tr>\n",
       "      <th>3</th>\n",
       "      <td>365c9450-344e-4608-8abb-a3e8b6ac7019</td>\n",
       "      <td>32e24028-cb9e-4499-bb48-142a0920b61b</td>\n",
       "      <td>b106a159-2d28-4019-bc7f-1feb31d0536e</td>\n",
       "      <td>254a79db-0421-4c3a-afae-3d93fd5fd5ac</td>\n",
       "      <td>2023-03-01 07:44:43</td>\n",
       "      <td>1</td>\n",
       "      <td>he was rude and did not drop me to my destination</td>\n",
       "    </tr>\n",
       "    <tr>\n",
       "      <th>4</th>\n",
       "      <td>52a81772-00cb-4ef0-8935-53ce4cd4c5e2</td>\n",
       "      <td>4372a23a-e506-4918-8006-71238e7eefa4</td>\n",
       "      <td>76311bc2-abbf-4c92-b07c-4716ad41c1ee</td>\n",
       "      <td>cee9eab5-9dc8-4565-b795-b4467059db7d</td>\n",
       "      <td>2023-03-01 07:55:51</td>\n",
       "      <td>1</td>\n",
       "      <td>Drove recklessly. Said he was a race driver. W...</td>\n",
       "    </tr>\n",
       "  </tbody>\n",
       "</table>\n",
       "</div>"
      ],
      "text/plain": [
       "                               order_id                           feedback_id  \\\n",
       "0  0d47c51b-a1df-4901-97eb-58ee193d9655  b89cf504-f2fb-4ad4-a113-1112f6da5265   \n",
       "1  ae23c8d2-496a-47a8-8fb4-bd48f3e6f342  93748ca6-e77a-46e9-8460-f9c65b3781f6   \n",
       "2  def53af0-8c66-4759-ac16-7143b9e116d5  7edf5cf5-aa9f-4be6-8ca7-cd03c1aa66c0   \n",
       "3  365c9450-344e-4608-8abb-a3e8b6ac7019  32e24028-cb9e-4499-bb48-142a0920b61b   \n",
       "4  52a81772-00cb-4ef0-8935-53ce4cd4c5e2  4372a23a-e506-4918-8006-71238e7eefa4   \n",
       "\n",
       "                               rider_id                             driver_id  \\\n",
       "0  9d9e0f25-a383-444e-afe7-01ed085d216f  d6c92134-8f65-4da4-b6ab-a2a5c4bbaf9f   \n",
       "1  576e7518-c1af-4697-9182-4251a488cbec  a635ef51-6da4-446a-9161-45d0a48ec2d2   \n",
       "2  e24c35a0-1cbf-43a1-9cae-171a89d1e7c1  57c5de49-2a44-46f8-800c-71a39490ea92   \n",
       "3  b106a159-2d28-4019-bc7f-1feb31d0536e  254a79db-0421-4c3a-afae-3d93fd5fd5ac   \n",
       "4  76311bc2-abbf-4c92-b07c-4716ad41c1ee  cee9eab5-9dc8-4565-b795-b4467059db7d   \n",
       "\n",
       "            created_at  stars  \\\n",
       "0  2023-03-01 01:49:32      1   \n",
       "1  2023-03-01 03:40:14      3   \n",
       "2  2023-03-01 06:46:58      1   \n",
       "3  2023-03-01 07:44:43      1   \n",
       "4  2023-03-01 07:55:51      1   \n",
       "\n",
       "                                      custom_comment  \n",
       "0                                    very not polite  \n",
       "1  not a pleasant interaction overall. The driver...  \n",
       "2  Driver is a theif. Our travel cost is 154 and ...  \n",
       "3  he was rude and did not drop me to my destination  \n",
       "4  Drove recklessly. Said he was a race driver. W...  "
      ]
     },
     "execution_count": 12,
     "metadata": {},
     "output_type": "execute_result"
    }
   ],
   "source": [
    "# loading dataset\n",
    "reviews = pd.read_csv('../datasets/reviews_taxi_data - data.csv', encoding='utf-8')\n",
    "reviews.head(5)"
   ]
  },
  {
   "attachments": {},
   "cell_type": "markdown",
   "metadata": {},
   "source": [
    "#### **data cleaning & preprocessing:**"
   ]
  },
  {
   "cell_type": "code",
   "execution_count": 13,
   "metadata": {},
   "outputs": [],
   "source": [
    "def clean_text(text):\n",
    "      le=WordNetLemmatizer()\n",
    "      word_tokens=word_tokenize(text)\n",
    "      tokens=[le.lemmatize(w) for w in word_tokens if w not in stopwords and len(w)>2]\n",
    "      cleaned_text=\" \".join(tokens)\n",
    "      return cleaned_text"
   ]
  },
  {
   "cell_type": "code",
   "execution_count": 14,
   "metadata": {},
   "outputs": [
    {
     "data": {
      "text/html": [
       "<div>\n",
       "<style scoped>\n",
       "    .dataframe tbody tr th:only-of-type {\n",
       "        vertical-align: middle;\n",
       "    }\n",
       "\n",
       "    .dataframe tbody tr th {\n",
       "        vertical-align: top;\n",
       "    }\n",
       "\n",
       "    .dataframe thead th {\n",
       "        text-align: right;\n",
       "    }\n",
       "</style>\n",
       "<table border=\"1\" class=\"dataframe\">\n",
       "  <thead>\n",
       "    <tr style=\"text-align: right;\">\n",
       "      <th></th>\n",
       "      <th>order_id</th>\n",
       "      <th>feedback_id</th>\n",
       "      <th>rider_id</th>\n",
       "      <th>driver_id</th>\n",
       "      <th>created_at</th>\n",
       "      <th>stars</th>\n",
       "      <th>custom_comment</th>\n",
       "      <th>clean_custom_comment</th>\n",
       "    </tr>\n",
       "  </thead>\n",
       "  <tbody>\n",
       "    <tr>\n",
       "      <th>0</th>\n",
       "      <td>0d47c51b-a1df-4901-97eb-58ee193d9655</td>\n",
       "      <td>b89cf504-f2fb-4ad4-a113-1112f6da5265</td>\n",
       "      <td>9d9e0f25-a383-444e-afe7-01ed085d216f</td>\n",
       "      <td>d6c92134-8f65-4da4-b6ab-a2a5c4bbaf9f</td>\n",
       "      <td>2023-03-01 01:49:32</td>\n",
       "      <td>1</td>\n",
       "      <td>very not polite</td>\n",
       "      <td>very not polite</td>\n",
       "    </tr>\n",
       "    <tr>\n",
       "      <th>1</th>\n",
       "      <td>ae23c8d2-496a-47a8-8fb4-bd48f3e6f342</td>\n",
       "      <td>93748ca6-e77a-46e9-8460-f9c65b3781f6</td>\n",
       "      <td>576e7518-c1af-4697-9182-4251a488cbec</td>\n",
       "      <td>a635ef51-6da4-446a-9161-45d0a48ec2d2</td>\n",
       "      <td>2023-03-01 03:40:14</td>\n",
       "      <td>3</td>\n",
       "      <td>not a pleasant interaction overall. The driver...</td>\n",
       "      <td>not pleasant interaction overall The driver se...</td>\n",
       "    </tr>\n",
       "    <tr>\n",
       "      <th>2</th>\n",
       "      <td>def53af0-8c66-4759-ac16-7143b9e116d5</td>\n",
       "      <td>7edf5cf5-aa9f-4be6-8ca7-cd03c1aa66c0</td>\n",
       "      <td>e24c35a0-1cbf-43a1-9cae-171a89d1e7c1</td>\n",
       "      <td>57c5de49-2a44-46f8-800c-71a39490ea92</td>\n",
       "      <td>2023-03-01 06:46:58</td>\n",
       "      <td>1</td>\n",
       "      <td>Driver is a theif. Our travel cost is 154 and ...</td>\n",
       "      <td>Driver theif Our travel cost 154 gave 200. hur...</td>\n",
       "    </tr>\n",
       "    <tr>\n",
       "      <th>3</th>\n",
       "      <td>365c9450-344e-4608-8abb-a3e8b6ac7019</td>\n",
       "      <td>32e24028-cb9e-4499-bb48-142a0920b61b</td>\n",
       "      <td>b106a159-2d28-4019-bc7f-1feb31d0536e</td>\n",
       "      <td>254a79db-0421-4c3a-afae-3d93fd5fd5ac</td>\n",
       "      <td>2023-03-01 07:44:43</td>\n",
       "      <td>1</td>\n",
       "      <td>he was rude and did not drop me to my destination</td>\n",
       "      <td>rude did not drop destination</td>\n",
       "    </tr>\n",
       "    <tr>\n",
       "      <th>4</th>\n",
       "      <td>52a81772-00cb-4ef0-8935-53ce4cd4c5e2</td>\n",
       "      <td>4372a23a-e506-4918-8006-71238e7eefa4</td>\n",
       "      <td>76311bc2-abbf-4c92-b07c-4716ad41c1ee</td>\n",
       "      <td>cee9eab5-9dc8-4565-b795-b4467059db7d</td>\n",
       "      <td>2023-03-01 07:55:51</td>\n",
       "      <td>1</td>\n",
       "      <td>Drove recklessly. Said he was a race driver. W...</td>\n",
       "      <td>Drove recklessly Said race driver Was very rud...</td>\n",
       "    </tr>\n",
       "  </tbody>\n",
       "</table>\n",
       "</div>"
      ],
      "text/plain": [
       "                               order_id                           feedback_id  \\\n",
       "0  0d47c51b-a1df-4901-97eb-58ee193d9655  b89cf504-f2fb-4ad4-a113-1112f6da5265   \n",
       "1  ae23c8d2-496a-47a8-8fb4-bd48f3e6f342  93748ca6-e77a-46e9-8460-f9c65b3781f6   \n",
       "2  def53af0-8c66-4759-ac16-7143b9e116d5  7edf5cf5-aa9f-4be6-8ca7-cd03c1aa66c0   \n",
       "3  365c9450-344e-4608-8abb-a3e8b6ac7019  32e24028-cb9e-4499-bb48-142a0920b61b   \n",
       "4  52a81772-00cb-4ef0-8935-53ce4cd4c5e2  4372a23a-e506-4918-8006-71238e7eefa4   \n",
       "\n",
       "                               rider_id                             driver_id  \\\n",
       "0  9d9e0f25-a383-444e-afe7-01ed085d216f  d6c92134-8f65-4da4-b6ab-a2a5c4bbaf9f   \n",
       "1  576e7518-c1af-4697-9182-4251a488cbec  a635ef51-6da4-446a-9161-45d0a48ec2d2   \n",
       "2  e24c35a0-1cbf-43a1-9cae-171a89d1e7c1  57c5de49-2a44-46f8-800c-71a39490ea92   \n",
       "3  b106a159-2d28-4019-bc7f-1feb31d0536e  254a79db-0421-4c3a-afae-3d93fd5fd5ac   \n",
       "4  76311bc2-abbf-4c92-b07c-4716ad41c1ee  cee9eab5-9dc8-4565-b795-b4467059db7d   \n",
       "\n",
       "            created_at  stars  \\\n",
       "0  2023-03-01 01:49:32      1   \n",
       "1  2023-03-01 03:40:14      3   \n",
       "2  2023-03-01 06:46:58      1   \n",
       "3  2023-03-01 07:44:43      1   \n",
       "4  2023-03-01 07:55:51      1   \n",
       "\n",
       "                                      custom_comment  \\\n",
       "0                                    very not polite   \n",
       "1  not a pleasant interaction overall. The driver...   \n",
       "2  Driver is a theif. Our travel cost is 154 and ...   \n",
       "3  he was rude and did not drop me to my destination   \n",
       "4  Drove recklessly. Said he was a race driver. W...   \n",
       "\n",
       "                                clean_custom_comment  \n",
       "0                                    very not polite  \n",
       "1  not pleasant interaction overall The driver se...  \n",
       "2  Driver theif Our travel cost 154 gave 200. hur...  \n",
       "3                      rude did not drop destination  \n",
       "4  Drove recklessly Said race driver Was very rud...  "
      ]
     },
     "execution_count": 14,
     "metadata": {},
     "output_type": "execute_result"
    }
   ],
   "source": [
    "reviews['clean_custom_comment'] = reviews['custom_comment'].apply(clean_text)\n",
    "# print(reviews['clean_custom_comment'])\n",
    "reviews.head(5)"
   ]
  },
  {
   "cell_type": "code",
   "execution_count": 18,
   "metadata": {},
   "outputs": [],
   "source": [
    "vect =TfidfVectorizer(stop_words=stopwords,max_features=1000)\n",
    "vect_text=vect.fit_transform(reviews['clean_custom_comment'])"
   ]
  },
  {
   "cell_type": "code",
   "execution_count": 19,
   "metadata": {},
   "outputs": [
    {
     "name": "stdout",
     "output_type": "stream",
     "text": [
      "(6357, 1000)\n",
      "  (0, 653)\t0.7807434163893865\n",
      "  (0, 577)\t0.44572757263794877\n",
      "  (0, 944)\t0.43791169058945134\n",
      "  (1, 886)\t0.26810128396544\n",
      "  (1, 741)\t0.2672197978078967\n",
      "  (1, 764)\t0.5385376769174872\n",
      "  (1, 282)\t0.14962159941689857\n",
      "  (1, 611)\t0.5336072811587552\n",
      "  (1, 648)\t0.4580826900245921\n",
      "  (1, 577)\t0.22300077873861612\n",
      "  (2, 159)\t0.26702797928769123\n",
      "  (2, 92)\t0.2652234456438039\n",
      "  (2, 391)\t0.2780678240595907\n",
      "  (2, 257)\t0.3343058406769518\n",
      "  (2, 13)\t0.3870054865690075\n",
      "  (2, 385)\t0.3231352712574516\n",
      "  (2, 221)\t0.33721105359152637\n",
      "  (2, 903)\t0.3969527309051913\n",
      "  (2, 607)\t0.2989918298786825\n",
      "  (2, 282)\t0.2332422400288188\n",
      "  (3, 253)\t0.5047529910131302\n",
      "  (3, 285)\t0.5667098711035723\n",
      "  (3, 255)\t0.4088708871705193\n",
      "  (3, 741)\t0.38913933690384694\n",
      "  (3, 577)\t0.3247453065950271\n",
      "  :\t:\n",
      "  (6356, 12)\t0.1712699567110944\n",
      "  (6356, 7)\t0.17988524681516252\n",
      "  (6356, 1)\t0.1564099463245284\n",
      "  (6356, 349)\t0.144585835065607\n",
      "  (6356, 491)\t0.22471714470837567\n",
      "  (6356, 940)\t0.16137978816027038\n",
      "  (6356, 113)\t0.14611630967924494\n",
      "  (6356, 136)\t0.15722099543937407\n",
      "  (6356, 998)\t0.23930843155531703\n",
      "  (6356, 268)\t0.1289714653692981\n",
      "  (6356, 557)\t0.12114247103113684\n",
      "  (6356, 318)\t0.1426822205011729\n",
      "  (6356, 369)\t0.14559555819526884\n",
      "  (6356, 608)\t0.11054473931069726\n",
      "  (6356, 190)\t0.12485966854141928\n",
      "  (6356, 597)\t0.11581555351155493\n",
      "  (6356, 470)\t0.27182482767514526\n",
      "  (6356, 552)\t0.2097517538296823\n",
      "  (6356, 70)\t0.11304001440150496\n",
      "  (6356, 876)\t0.14719190443735267\n",
      "  (6356, 770)\t0.24040708067481875\n",
      "  (6356, 636)\t0.10305702738648076\n",
      "  (6356, 144)\t0.16093344320395386\n",
      "  (6356, 661)\t0.12152895986100606\n",
      "  (6356, 859)\t0.31955587101745714\n"
     ]
    }
   ],
   "source": [
    "print(vect_text.shape)\n",
    "print(vect_text)\n",
    "# The lesser the value; more common is the word in the reviews."
   ]
  },
  {
   "attachments": {},
   "cell_type": "markdown",
   "metadata": {},
   "source": [
    "#### **TOPIC MODELLING**"
   ]
  },
  {
   "attachments": {},
   "cell_type": "markdown",
   "metadata": {},
   "source": [
    "##### **LDA (LatentDirichletAllocation) with Sklearn**"
   ]
  },
  {
   "cell_type": "code",
   "execution_count": 20,
   "metadata": {},
   "outputs": [],
   "source": [
    "from sklearn.decomposition import LatentDirichletAllocation\n",
    "lda_model=LatentDirichletAllocation(n_components=10,\n",
    "learning_method='online',random_state=42,max_iter=1) \n",
    "lda_top=lda_model.fit_transform(vect_text)\n",
    "# n_components is the number of topics "
   ]
  },
  {
   "cell_type": "code",
   "execution_count": 21,
   "metadata": {},
   "outputs": [
    {
     "name": "stdout",
     "output_type": "stream",
     "text": [
      "(6357, 10)\n",
      "[[0.0375426  0.03753329 0.03755163 ... 0.03753321 0.03753299 0.03753488]\n",
      " [0.73819723 0.02908573 0.02908604 ... 0.02909828 0.02908604 0.02909535]\n",
      " [0.11245842 0.02426633 0.13991562 ... 0.02426642 0.27096488 0.33106335]\n",
      " ...\n",
      " [0.02367023 0.10195587 0.02366752 ... 0.44101104 0.02366867 0.0795394 ]\n",
      " [0.14841123 0.0460647  0.0808345  ... 0.09492296 0.1010485  0.3652166 ]\n",
      " [0.04524285 0.01621916 0.06411901 ... 0.25838857 0.08499388 0.354153  ]]\n"
     ]
    }
   ],
   "source": [
    "print(lda_top.shape)  # (no_of_doc,no_of_topics)\n",
    "print(lda_top)"
   ]
  },
  {
   "cell_type": "code",
   "execution_count": 24,
   "metadata": {},
   "outputs": [
    {
     "name": "stdout",
     "output_type": "stream",
     "text": [
      "['00' '10' '100' '11' '12' '13' '14' '15' '150' '17' '18' '19' '20' '200'\n",
      " '2017' '2018' '2nd' '30' '300' '45' '50' '500' '99' 'able' 'absolutely'\n",
      " 'abusive' 'accept' 'accepted' 'access' 'accident' 'account' 'across'\n",
      " 'actual' 'actually' 'add' 'added' 'additional' 'address' 'adress'\n",
      " 'advertising' 'after' 'again' 'against' 'aggressive' 'ago' 'agreed'\n",
      " 'agressive' 'air' 'airport' 'all' 'allow' 'allowed' 'almost' 'alone'\n",
      " 'already' 'also' 'although' 'always' 'amazing' 'amount' 'angry'\n",
      " 'annoying' 'another' 'answer' 'any' 'anymore' 'anyone' 'anything'\n",
      " 'apartment' 'apologize' 'app' 'application' 'appointment' 'area' 'around'\n",
      " 'arrival' 'arrive' 'arrived' 'arriving' 'arrogant' 'ask' 'asked' 'asking'\n",
      " 'attempt' 'attention' 'attitude' 'available' 'avoid' 'away' 'awesome'\n",
      " 'awful' 'baby' 'back' 'background' 'backseat' 'bad' 'badly' 'bag'\n",
      " 'balance' 'bank' 'barely' 'basically' 'because' 'before' 'began'\n",
      " 'behaved' 'behavior' 'behaviour' 'behind' 'being' 'believe' 'belt' 'best'\n",
      " 'better' 'between' 'beware' 'big' 'bill' 'billed' 'bit' 'black' 'block'\n",
      " 'book' 'booked' 'booking' 'both' 'bother' 'bring' 'broke' 'brought'\n",
      " 'building' 'bus' 'business' 'cab' 'call' 'called' 'calling' 'calm' 'came'\n",
      " 'cancel' 'canceled' 'cancellation' 'cancelled' 'cant' 'car' 'card' 'care'\n",
      " 'careful' 'carefully' 'careless' 'carry' 'case' 'cash' 'catch' 'cause'\n",
      " 'caused' 'cell' 'center' 'certain' 'change' 'changed' 'charge' 'charged'\n",
      " 'charging' 'cheaper' 'cheat' 'cheated' 'cheating' 'check' 'checked'\n",
      " 'checking' 'chicago' 'child' 'choice' 'choose' 'chose' 'cigarette' 'city'\n",
      " 'claim' 'claimed' 'class' 'clean' 'cleaning' 'client' 'close' 'closed'\n",
      " 'code' 'cold' 'collect' 'collected' 'come' 'comfort' 'comfortable'\n",
      " 'coming' 'comment' 'communicate' 'communication' 'companion' 'company'\n",
      " 'complain' 'complained' 'complaining' 'complaint' 'complete' 'completed'\n",
      " 'completely' 'concern' 'condition' 'confirm' 'confirmed' 'confused'\n",
      " 'constantly' 'consumer' 'contact' 'contacted' 'continue' 'continued'\n",
      " 'convenient' 'conversation' 'cool' 'correct' 'cost' 'coughing' 'could'\n",
      " 'couldn' 'counting' 'country' 'couple' 'course' 'courteous' 'crazy'\n",
      " 'credit' 'customer' 'damage' 'dangerous' 'dangerously' 'date' 'daughter'\n",
      " 'day' 'deactivated' 'deal' 'debit' 'decided' 'definitely' 'delay'\n",
      " 'deleted' 'deliver' 'delivered' 'delivery' 'demand' 'demanded' 'denied'\n",
      " 'despite' 'destination' 'detail' 'did' 'didn' 'didnt' 'different'\n",
      " 'difficult' 'direction' 'dirty' 'disappointed' 'discount' 'disgusting'\n",
      " 'dispute' 'disrespectful' 'distance' 'doe' 'does' 'doesn' 'doing'\n",
      " 'dollar' 'don' 'done' 'dont' 'door' 'double' 'down' 'drink' 'drive'\n",
      " 'driven' 'driver' 'drivers' 'driving' 'drop' 'dropped' 'dropping' 'drove'\n",
      " 'drug' 'drunk' 'due' 'during' 'each' 'earlier' 'early' 'easily' 'easy'\n",
      " 'eats' 'efficient' 'either' 'else' 'email' 'emailed' 'end' 'ended'\n",
      " 'english' 'enjoyed' 'enough' 'enter' 'entered' 'entrance' 'error'\n",
      " 'especially' 'etc' 'evening' 'event' 'eventually' 'every' 'everyone'\n",
      " 'everything' 'exact' 'exactly' 'excellent' 'except' 'excuse' 'expected'\n",
      " 'expensive' 'experience' 'experienced' 'explain' 'explained'\n",
      " 'explanation' 'extra' 'extremely' 'face' 'fact' 'failed' 'fair' 'family'\n",
      " 'fantastic' 'far' 'fare' 'fast' 'faster' 'fault' 'fee' 'feel' 'felt'\n",
      " 'few' 'fight' 'file' 'final' 'finally' 'find' 'fine' 'finish' 'finished'\n",
      " 'first' 'five' 'flight' 'florida' 'follow' 'followed' 'following' 'food'\n",
      " 'foreigner' 'forgot' 'forth' 'found' 'four' 'fraud' 'fraudulent' 'free'\n",
      " 'friend' 'friendly' 'front' 'frustrating' 'fucking' 'full' 'fun'\n",
      " 'further' 'future' 'gas' 'gate' 'gave' 'general' 'gentleman' 'getting'\n",
      " 'gift' 'girlfriend' 'give' 'given' 'giving' 'god' 'going' 'gone' 'good'\n",
      " 'got' 'gps' 'great' 'grocery' 'guess' 'guy' 'hacked' 'half' 'hand'\n",
      " 'happen' 'happened' 'happy' 'hard' 'harsh' 'having' 'hear' 'heard'\n",
      " 'heater' 'heavy' 'hello' 'help' 'helped' 'helpful' 'here' 'high' 'higher'\n",
      " 'highly' 'him' 'himself' 'hit' 'hold' 'home' 'hope' 'horrible' 'hotel'\n",
      " 'hour' 'house' 'however' 'huge' 'husband' 'idea' 'idiot' 'idle' 'ignored'\n",
      " 'immediately' 'impatient' 'impolite' 'important' 'impossible' 'incident'\n",
      " 'incorrect' 'increase' 'increased' 'india' 'info' 'information'\n",
      " 'informed' 'initial' 'inside' 'insisted' 'instead' 'insult' 'insulted'\n",
      " 'interesting' 'issue' 'item' 'itself' 'job' 'journey' 'keep' 'kept' 'kid'\n",
      " 'kind' 'knew' 'know' 'knowledge' 'lack' 'lady' 'lane' 'language' 'last'\n",
      " 'late' 'later' 'le' 'least' 'leave' 'leaving' 'left' 'let' 'license'\n",
      " 'lied' 'life' 'light' 'like' 'limit' 'line' 'listen' 'literally' 'little'\n",
      " 'live' 'll' 'loaded' 'local' 'location' 'log' 'long' 'longer' 'look'\n",
      " 'looked' 'looking' 'lost' 'lot' 'loud' 'love' 'loved' 'lovely' 'low'\n",
      " 'lower' 'luggage' 'mad' 'made' 'mail' 'major' 'make' 'making' 'man'\n",
      " 'manner' 'many' 'map' 'mask' 'matter' 'may' 'maybe' 'mean' 'meet' 'mess'\n",
      " 'message' 'met' 'meter' 'method' 'miami' 'middle' 'might' 'mile' 'min'\n",
      " 'mind' 'mine' 'minute' 'miss' 'missed' 'mistake' 'mom' 'money' 'month'\n",
      " 'more' 'morning' 'most' 'move' 'moving' 'much' 'multiple' 'music' 'must'\n",
      " 'myself' 'name' 'navigation' 'near' 'nearly' 'neat' 'need' 'needed'\n",
      " 'never' 'new' 'next' 'nice' 'night' 'non' 'nor' 'normal' 'not' 'nothing'\n",
      " 'notice' 'noticed' 'notification' 'notified' 'now' 'number' 'numerous'\n",
      " 'nyc' 'occasion' 'off' 'offer' 'offered' 'office' 'often' 'old' 'once'\n",
      " 'one' 'online' 'only' 'open' 'optimal' 'option' 'order' 'ordered'\n",
      " 'ordering' 'original' 'other' 'otherwise' 'our' 'out' 'outside' 'over'\n",
      " 'overall' 'overcharged' 'own' 'package' 'paid' 'park' 'parked' 'parking'\n",
      " 'part' 'party' 'passed' 'passenger' 'password' 'past' 'patient' 'pay'\n",
      " 'paying' 'payment' 'paypal' 'pedestrian' 'people' 'per' 'perfect'\n",
      " 'person' 'personal' 'phone' 'photo' 'pick' 'picked' 'picking' 'pickup'\n",
      " 'picture' 'place' 'placed' 'plate' 'play' 'playing' 'pleasant' 'please'\n",
      " 'plus' 'point' 'police' 'polite' 'pool' 'poor' 'positive' 'possible'\n",
      " 'practice' 'pretty' 'previous' 'price' 'pricing' 'probably' 'problem'\n",
      " 'process' 'professional' 'promised' 'promo' 'prompt' 'proper' 'provide'\n",
      " 'provided' 'public' 'purchase' 'put' 'question' 'quick' 'quickly' 'quite'\n",
      " 'quoted' 'racist' 'rain' 'raining' 'ran' 'rate' 'rather' 'rating' 're'\n",
      " 'reach' 'reached' 'reaching' 'read' 'real' 'realized' 'really' 'reason'\n",
      " 'reasonable' 'receipt' 'receive' 'received' 'recently' 'reckless'\n",
      " 'recklessly' 'recommend' 'recommended' 'red' 'refund' 'refunded' 'refuse'\n",
      " 'refused' 'regular' 'replied' 'reply' 'report' 'reported' 'request'\n",
      " 'requested' 'required' 'resolve' 'resolved' 'respect' 'respectful'\n",
      " 'respond' 'response' 'rest' 'result' 'return' 'returned' 'review' 'ride'\n",
      " 'rider' 'ridiculous' 'riding' 'right' 'rip' 'risk' 'road' 'rough' 'route'\n",
      " 'rs' 'rude' 'rule' 'run' 'russian' 'sad' 'safe' 'safety' 'said' 'same'\n",
      " 'san' 'save' 'saved' 'saw' 'say' 'saying' 'scam' 'scheduled' 'screaming'\n",
      " 'screen' 'seat' 'seatbelt' 'second' 'security' 'seemed' 'seems'\n",
      " 'selected' 'send' 'sent' 'seriously' 'service' 'serviceshe' 'set'\n",
      " 'several' 'share' 'shopping' 'short' 'should' 'shouted' 'shouting' 'show'\n",
      " 'showed' 'showing' 'shown' 'shut' 'sick' 'side' 'sign' 'signed' 'simple'\n",
      " 'simply' 'since' 'site' 'sitting' 'situation' 'skill' 'slow' 'small'\n",
      " 'smart' 'smell' 'smelled' 'smelling' 'smoke' 'smoking' 'smooth' 'some'\n",
      " 'someone' 'something' 'sometimes' 'somewhere' 'son' 'sorry' 'speak'\n",
      " 'speaking' 'speaks' 'speed' 'speeding' 'spent' 'spoke' 'spot' 'standing'\n",
      " 'star' 'start' 'started' 'state' 'stated' 'station' 'stay' 'steal' 'step'\n",
      " 'still' 'stole' 'stop' 'stopped' 'store' 'story' 'stranded' 'street'\n",
      " 'stuff' 'stupid' 'style' 'such' 'suck' 'suddenly' 'suitcase' 'super'\n",
      " 'support' 'supposed' 'sure' 'surge' 'surprise' 'swearing' 'sweet'\n",
      " 'system' 'take' 'taken' 'taking' 'talk' 'talking' 'taxi' 'team' 'tell'\n",
      " 'telling' 'terrible' 'text' 'texting' 'thank' 'thanks' 'them' 'then'\n",
      " 'therefore' 'these' 'thief' 'thing' 'think' 'those' 'though' 'thought'\n",
      " 'threatened' 'three' 'threw' 'through' 'throughout' 'throw' 'tidy' 'till'\n",
      " 'time' 'tip' 'today' 'told' 'toll' 'too' 'took' 'top' 'total' 'totally'\n",
      " 'towards' 'town' 'traffic' 'train' 'transaction' 'transfer'\n",
      " 'transportation' 'travel' 'treat' 'tried' 'trip' 'true' 'trunk' 'trust'\n",
      " 'try' 'trying' 'turn' 'turned' 'twice' 'two' 'type' 'uah' 'ukraine'\n",
      " 'ukrainian' 'unable' 'uncomfortable' 'under' 'understand' 'understanding'\n",
      " 'unfortunately' 'unfriendly' 'unless' 'unpleasant' 'unprofessional'\n",
      " 'unsafe' 'until' 'up' 'upfront' 'upon' 'use' 'used' 'user' 'using'\n",
      " 'usually' 'utaxi' 've' 'vegas' 'vehicle' 'very' 'via' 'video' 'violated'\n",
      " 'voice' 'wait' 'waited' 'waiting' 'walk' 'wallet' 'want' 'wanted' 'wasn'\n",
      " 'wasted' 'watching' 'water' 'way' 'wear' 'wearing' 'weather' 'website'\n",
      " 'week' 'weird' 'well' 'went' 'where' 'while' 'whole' 'why' 'wife'\n",
      " 'willing' 'window' 'wish' 'within' 'without' 'woman' 'wonderful' 'word'\n",
      " 'work' 'working' 'world' 'worse' 'worst' 'worth' 'would' 'write' 'wrong'\n",
      " 'wrote' 'year' 'yelled' 'yelling' 'yes' 'yesterday' 'yet' 'your' 'zero']\n"
     ]
    }
   ],
   "source": [
    "#We can now see the most frequent and rare words in the clean_custom_comment column based on idf score. \n",
    "#The lesser the value; more common is the word in the column.\n",
    "print(vect.get_feature_names_out())"
   ]
  },
  {
   "cell_type": "code",
   "execution_count": 25,
   "metadata": {},
   "outputs": [
    {
     "name": "stdout",
     "output_type": "stream",
     "text": [
      "Doc 0: \n",
      "Topic  0 :  3.754259609060077 %\n",
      "Topic  1 :  3.753329478513296 %\n",
      "Topic  2 :  3.755162832167649 %\n",
      "Topic  3 :  3.753539448356618 %\n",
      "Topic  4 :  66.21644465993171 %\n",
      "Topic  5 :  3.75341156299073 %\n",
      "Topic  6 :  3.75374459827433 %\n",
      "Topic  7 :  3.7533206511854025 %\n",
      "Topic  8 :  3.753298753958076 %\n",
      "Topic  9 :  3.7534884055620976 %\n"
     ]
    }
   ],
   "source": [
    "#  check the proportion of topics that have been assigned to the first document\n",
    "print(\"Doc 0: \")\n",
    "for i,topic in enumerate(lda_top[0]):\n",
    "  print(\"Topic \",i,\": \",topic*100,\"%\")"
   ]
  },
  {
   "cell_type": "code",
   "execution_count": null,
   "metadata": {},
   "outputs": [],
   "source": [
    "print(lda_model.components_.shape) # (no_of_topics*no_of_words)\n",
    "print(lda_model.components_[0])  "
   ]
  },
  {
   "cell_type": "code",
   "execution_count": 28,
   "metadata": {},
   "outputs": [
    {
     "name": "stdout",
     "output_type": "stream",
     "text": [
      "Topic 0: \n",
      "rude customer very driver again should too road much cost \n",
      "\n",
      "Topic 1: \n",
      "great car phone service perfect fare driver guy while amazing \n",
      "\n",
      "Topic 2: \n",
      "good nice very driver really thank thanks person english kind \n",
      "\n",
      "Topic 3: \n",
      "issue racist helpful being rider showed such comfort top aggressive \n",
      "\n",
      "Topic 4: \n",
      "not driver driving fast polite people credit make card same \n",
      "\n",
      "Topic 5: \n",
      "best utaxi experience friendly one city driver ride excellent loud \n",
      "\n",
      "Topic 6: \n",
      "other service advertising bad music behaviour cool very smell business \n",
      "\n",
      "Topic 7: \n",
      "wrong charge used driver time take account location never took \n",
      "\n",
      "Topic 8: \n",
      "them need change always our give clean some help ve \n",
      "\n",
      "Topic 9: \n",
      "utaxi driver not time taxi use did off ride minute \n",
      "\n"
     ]
    }
   ],
   "source": [
    "# most important words for each topic in whole dataset\n",
    "vocab = vect.get_feature_names_out()\n",
    "for i, comp in enumerate(lda_model.components_):\n",
    "     vocab_comp = zip(vocab, comp)\n",
    "     sorted_words = sorted(vocab_comp, key= lambda x:x[1], reverse=True)[:10]\n",
    "     print(\"Topic \"+str(i)+\": \")\n",
    "     for t in sorted_words:\n",
    "         print(t[0],end=\" \")\n",
    "     print(\"\\n\")"
   ]
  },
  {
   "cell_type": "code",
   "execution_count": 30,
   "metadata": {},
   "outputs": [],
   "source": [
    "# most important words for each topic in whole dataset in a view of table\n",
    "vocab = vect.get_feature_names_out()\n",
    "columns = []\n",
    "words = []\n",
    "for i, comp in enumerate(lda_model.components_):\n",
    "     vocab_comp = zip(vocab, comp)\n",
    "     sorted_words = sorted(vocab_comp, key= lambda x:x[1], reverse=True)[:10]\n",
    "     sorted_words = dict(sorted_words)\n",
    "     topic = \"Topic \"+str(i)\n",
    "     columns.append(topic)\n",
    "     words.append(sorted_words.keys())\n",
    "     "
   ]
  },
  {
   "cell_type": "code",
   "execution_count": 31,
   "metadata": {},
   "outputs": [
    {
     "data": {
      "text/html": [
       "<div>\n",
       "<style scoped>\n",
       "    .dataframe tbody tr th:only-of-type {\n",
       "        vertical-align: middle;\n",
       "    }\n",
       "\n",
       "    .dataframe tbody tr th {\n",
       "        vertical-align: top;\n",
       "    }\n",
       "\n",
       "    .dataframe thead th {\n",
       "        text-align: right;\n",
       "    }\n",
       "</style>\n",
       "<table border=\"1\" class=\"dataframe\">\n",
       "  <thead>\n",
       "    <tr style=\"text-align: right;\">\n",
       "      <th></th>\n",
       "      <th>Topic 0</th>\n",
       "      <th>Topic 1</th>\n",
       "      <th>Topic 2</th>\n",
       "      <th>Topic 3</th>\n",
       "      <th>Topic 4</th>\n",
       "      <th>Topic 5</th>\n",
       "      <th>Topic 6</th>\n",
       "      <th>Topic 7</th>\n",
       "      <th>Topic 8</th>\n",
       "      <th>Topic 9</th>\n",
       "    </tr>\n",
       "  </thead>\n",
       "  <tbody>\n",
       "    <tr>\n",
       "      <th>0</th>\n",
       "      <td>rude</td>\n",
       "      <td>great</td>\n",
       "      <td>good</td>\n",
       "      <td>issue</td>\n",
       "      <td>not</td>\n",
       "      <td>best</td>\n",
       "      <td>other</td>\n",
       "      <td>wrong</td>\n",
       "      <td>them</td>\n",
       "      <td>utaxi</td>\n",
       "    </tr>\n",
       "    <tr>\n",
       "      <th>1</th>\n",
       "      <td>customer</td>\n",
       "      <td>car</td>\n",
       "      <td>nice</td>\n",
       "      <td>racist</td>\n",
       "      <td>driver</td>\n",
       "      <td>utaxi</td>\n",
       "      <td>service</td>\n",
       "      <td>charge</td>\n",
       "      <td>need</td>\n",
       "      <td>driver</td>\n",
       "    </tr>\n",
       "    <tr>\n",
       "      <th>2</th>\n",
       "      <td>very</td>\n",
       "      <td>phone</td>\n",
       "      <td>very</td>\n",
       "      <td>helpful</td>\n",
       "      <td>driving</td>\n",
       "      <td>experience</td>\n",
       "      <td>advertising</td>\n",
       "      <td>used</td>\n",
       "      <td>change</td>\n",
       "      <td>not</td>\n",
       "    </tr>\n",
       "    <tr>\n",
       "      <th>3</th>\n",
       "      <td>driver</td>\n",
       "      <td>service</td>\n",
       "      <td>driver</td>\n",
       "      <td>being</td>\n",
       "      <td>fast</td>\n",
       "      <td>friendly</td>\n",
       "      <td>bad</td>\n",
       "      <td>driver</td>\n",
       "      <td>always</td>\n",
       "      <td>time</td>\n",
       "    </tr>\n",
       "    <tr>\n",
       "      <th>4</th>\n",
       "      <td>again</td>\n",
       "      <td>perfect</td>\n",
       "      <td>really</td>\n",
       "      <td>rider</td>\n",
       "      <td>polite</td>\n",
       "      <td>one</td>\n",
       "      <td>music</td>\n",
       "      <td>time</td>\n",
       "      <td>our</td>\n",
       "      <td>taxi</td>\n",
       "    </tr>\n",
       "    <tr>\n",
       "      <th>5</th>\n",
       "      <td>should</td>\n",
       "      <td>fare</td>\n",
       "      <td>thank</td>\n",
       "      <td>showed</td>\n",
       "      <td>people</td>\n",
       "      <td>city</td>\n",
       "      <td>behaviour</td>\n",
       "      <td>take</td>\n",
       "      <td>give</td>\n",
       "      <td>use</td>\n",
       "    </tr>\n",
       "    <tr>\n",
       "      <th>6</th>\n",
       "      <td>too</td>\n",
       "      <td>driver</td>\n",
       "      <td>thanks</td>\n",
       "      <td>such</td>\n",
       "      <td>credit</td>\n",
       "      <td>driver</td>\n",
       "      <td>cool</td>\n",
       "      <td>account</td>\n",
       "      <td>clean</td>\n",
       "      <td>did</td>\n",
       "    </tr>\n",
       "    <tr>\n",
       "      <th>7</th>\n",
       "      <td>road</td>\n",
       "      <td>guy</td>\n",
       "      <td>person</td>\n",
       "      <td>comfort</td>\n",
       "      <td>make</td>\n",
       "      <td>ride</td>\n",
       "      <td>very</td>\n",
       "      <td>location</td>\n",
       "      <td>some</td>\n",
       "      <td>off</td>\n",
       "    </tr>\n",
       "    <tr>\n",
       "      <th>8</th>\n",
       "      <td>much</td>\n",
       "      <td>while</td>\n",
       "      <td>english</td>\n",
       "      <td>top</td>\n",
       "      <td>card</td>\n",
       "      <td>excellent</td>\n",
       "      <td>smell</td>\n",
       "      <td>never</td>\n",
       "      <td>help</td>\n",
       "      <td>ride</td>\n",
       "    </tr>\n",
       "    <tr>\n",
       "      <th>9</th>\n",
       "      <td>cost</td>\n",
       "      <td>amazing</td>\n",
       "      <td>kind</td>\n",
       "      <td>aggressive</td>\n",
       "      <td>same</td>\n",
       "      <td>loud</td>\n",
       "      <td>business</td>\n",
       "      <td>took</td>\n",
       "      <td>ve</td>\n",
       "      <td>minute</td>\n",
       "    </tr>\n",
       "  </tbody>\n",
       "</table>\n",
       "</div>"
      ],
      "text/plain": [
       "    Topic 0  Topic 1  Topic 2     Topic 3  Topic 4     Topic 5      Topic 6  \\\n",
       "0      rude    great     good       issue      not        best        other   \n",
       "1  customer      car     nice      racist   driver       utaxi      service   \n",
       "2      very    phone     very     helpful  driving  experience  advertising   \n",
       "3    driver  service   driver       being     fast    friendly          bad   \n",
       "4     again  perfect   really       rider   polite         one        music   \n",
       "5    should     fare    thank      showed   people        city    behaviour   \n",
       "6       too   driver   thanks        such   credit      driver         cool   \n",
       "7      road      guy   person     comfort     make        ride         very   \n",
       "8      much    while  english         top     card   excellent        smell   \n",
       "9      cost  amazing     kind  aggressive     same        loud     business   \n",
       "\n",
       "    Topic 7 Topic 8 Topic 9  \n",
       "0     wrong    them   utaxi  \n",
       "1    charge    need  driver  \n",
       "2      used  change     not  \n",
       "3    driver  always    time  \n",
       "4      time     our    taxi  \n",
       "5      take    give     use  \n",
       "6   account   clean     did  \n",
       "7  location    some     off  \n",
       "8     never    help    ride  \n",
       "9      took      ve  minute  "
      ]
     },
     "execution_count": 31,
     "metadata": {},
     "output_type": "execute_result"
    }
   ],
   "source": [
    "topics_relevant_words = pd.DataFrame(words).transpose()\n",
    "topics_relevant_words.columns = columns\n",
    "topics_relevant_words.head(20)"
   ]
  },
  {
   "cell_type": "code",
   "execution_count": 34,
   "metadata": {},
   "outputs": [],
   "source": [
    "from wordcloud import WordCloud\n",
    "# Generate a word cloud image for given topic\n",
    "def draw_word_cloud(index):\n",
    "  imp_words_topic=\"\"\n",
    "  comp=lda_model.components_[index]\n",
    "  vocab_comp = zip(vocab, comp)\n",
    "  sorted_words = sorted(vocab_comp, key= lambda x:x[1], reverse=True)[:25]\n",
    "  for word in sorted_words:\n",
    "    imp_words_topic=imp_words_topic+\" \"+word[0]\n",
    "\n",
    "  wordcloud = WordCloud(width=900, height=600).generate(imp_words_topic)\n",
    "  plt.figure( figsize=(5,5))\n",
    "  plt.imshow(wordcloud)\n",
    "  plt.axis(\"off\")\n",
    "  plt.tight_layout()\n",
    "  plt.show()"
   ]
  },
  {
   "cell_type": "code",
   "execution_count": 35,
   "metadata": {},
   "outputs": [
    {
     "data": {
      "image/png": "[encoded data removed]",
      "text/plain": [
       "<Figure size 500x500 with 1 Axes>"
      ]
     },
     "metadata": {},
     "output_type": "display_data"
    }
   ],
   "source": [
    "# topic 0\n",
    "draw_word_cloud(0)"
   ]
  },
  {
   "attachments": {},
   "cell_type": "markdown",
   "metadata": {},
   "source": [
    "##### **LDA (LatentDirichletAllocation) with GenSim**"
   ]
  },
  {
   "cell_type": "code",
   "execution_count": 37,
   "metadata": {},
   "outputs": [],
   "source": [
    "from gensim.utils import simple_preprocess\n",
    "\n",
    "texts = reviews.clean_custom_comment.apply(simple_preprocess)"
   ]
  },
  {
   "cell_type": "code",
   "execution_count": 38,
   "metadata": {},
   "outputs": [],
   "source": [
    "from gensim import corpora\n",
    "\n",
    "dictionary = corpora.Dictionary(texts)\n",
    "dictionary.filter_extremes(no_below=5, no_above=0.5)\n",
    "\n",
    "corpus = [dictionary.doc2bow(text) for text in texts]"
   ]
  },
  {
   "cell_type": "code",
   "execution_count": 39,
   "metadata": {},
   "outputs": [],
   "source": [
    "from gensim import models\n",
    "\n",
    "tfidf = models.TfidfModel(corpus)\n",
    "corpus_tfidf = tfidf[corpus]"
   ]
  },
  {
   "cell_type": "code",
   "execution_count": 40,
   "metadata": {},
   "outputs": [],
   "source": [
    "n_topics = 10\n",
    "\n",
    "# Build an LSI(=Latent Semantic Indexing = LSA) model\n",
    "lsi_model = models.LsiModel(corpus_tfidf,\n",
    "                            id2word=dictionary,\n",
    "                            num_topics=n_topics)"
   ]
  },
  {
   "cell_type": "code",
   "execution_count": 41,
   "metadata": {},
   "outputs": [
    {
     "data": {
      "text/plain": [
       "[(0,\n",
       "  '-0.628*\"advertising\" + -0.587*\"other\" + -0.510*\"service\" + -0.018*\"great\" + -0.014*\"rude\" + -0.012*\"bad\" + -0.010*\"driver\" + -0.010*\"very\" + -0.008*\"good\" + -0.007*\"utaxi\"'),\n",
       " (1,\n",
       "  '-0.641*\"rude\" + -0.406*\"very\" + -0.294*\"driver\" + -0.187*\"bad\" + -0.167*\"good\" + -0.166*\"nice\" + -0.140*\"the\" + -0.133*\"not\" + -0.121*\"car\" + -0.090*\"trip\"'),\n",
       " (2,\n",
       "  '-0.727*\"rude\" + 0.248*\"good\" + 0.235*\"nice\" + 0.182*\"very\" + 0.176*\"great\" + 0.146*\"car\" + 0.145*\"bad\" + 0.140*\"not\" + 0.120*\"best\" + 0.119*\"trip\"'),\n",
       " (3,\n",
       "  '-0.449*\"very\" + -0.293*\"nice\" + -0.278*\"bad\" + 0.262*\"wrong\" + -0.214*\"good\" + 0.175*\"not\" + 0.172*\"address\" + 0.171*\"location\" + 0.158*\"best\" + 0.151*\"utaxi\"'),\n",
       " (4,\n",
       "  '0.525*\"great\" + -0.473*\"bad\" + 0.414*\"best\" + -0.197*\"very\" + -0.185*\"wrong\" + 0.176*\"nice\" + 0.148*\"good\" + -0.125*\"behavior\" + 0.125*\"the\" + -0.115*\"address\"'),\n",
       " (5,\n",
       "  '0.763*\"best\" + -0.500*\"great\" + 0.239*\"the\" + 0.186*\"bad\" + -0.110*\"wrong\" + -0.071*\"good\" + -0.068*\"thanks\" + -0.063*\"address\" + -0.061*\"location\" + 0.060*\"very\"'),\n",
       " (6,\n",
       "  '0.582*\"great\" + 0.513*\"bad\" + -0.402*\"nice\" + -0.365*\"good\" + 0.154*\"best\" + 0.132*\"behavior\" + 0.074*\"behaviour\" + 0.072*\"service\" + -0.069*\"really\" + -0.065*\"wrong\"'),\n",
       " (7,\n",
       "  '-0.597*\"wrong\" + -0.306*\"address\" + -0.268*\"location\" + 0.247*\"not\" + -0.191*\"best\" + -0.190*\"nice\" + 0.182*\"utaxi\" + -0.162*\"dropped\" + -0.135*\"great\" + -0.127*\"place\"'),\n",
       " (8,\n",
       "  '-0.749*\"good\" + 0.565*\"nice\" + -0.129*\"wrong\" + 0.096*\"very\" + -0.077*\"behavior\" + -0.076*\"not\" + -0.072*\"bad\" + -0.064*\"english\" + 0.064*\"utaxi\" + -0.063*\"address\"'),\n",
       " (9,\n",
       "  '0.896*\"perfect\" + -0.204*\"not\" + 0.132*\"driving\" + -0.107*\"did\" + 0.097*\"car\" + 0.096*\"driver\" + 0.090*\"fast\" + -0.089*\"great\" + -0.088*\"change\" + -0.085*\"very\"')]"
      ]
     },
     "execution_count": 41,
     "metadata": {},
     "output_type": "execute_result"
    }
   ],
   "source": [
    "lsi_model.print_topics()"
   ]
  },
  {
   "cell_type": "code",
   "execution_count": 42,
   "metadata": {},
   "outputs": [
    {
     "data": {
      "text/html": [
       "<div>\n",
       "<style scoped>\n",
       "    .dataframe tbody tr th:only-of-type {\n",
       "        vertical-align: middle;\n",
       "    }\n",
       "\n",
       "    .dataframe tbody tr th {\n",
       "        vertical-align: top;\n",
       "    }\n",
       "\n",
       "    .dataframe thead th {\n",
       "        text-align: right;\n",
       "    }\n",
       "</style>\n",
       "<table border=\"1\" class=\"dataframe\">\n",
       "  <thead>\n",
       "    <tr style=\"text-align: right;\">\n",
       "      <th></th>\n",
       "      <th>value</th>\n",
       "      <th>word</th>\n",
       "      <th>topic</th>\n",
       "    </tr>\n",
       "  </thead>\n",
       "  <tbody>\n",
       "    <tr>\n",
       "      <th>0</th>\n",
       "      <td>-0.000011</td>\n",
       "      <td>apply</td>\n",
       "      <td>0</td>\n",
       "    </tr>\n",
       "    <tr>\n",
       "      <th>1</th>\n",
       "      <td>-0.000011</td>\n",
       "      <td>radio</td>\n",
       "      <td>0</td>\n",
       "    </tr>\n",
       "    <tr>\n",
       "      <th>2</th>\n",
       "      <td>-0.000011</td>\n",
       "      <td>freezing</td>\n",
       "      <td>0</td>\n",
       "    </tr>\n",
       "    <tr>\n",
       "      <th>3</th>\n",
       "      <td>-0.000012</td>\n",
       "      <td>screenshot</td>\n",
       "      <td>0</td>\n",
       "    </tr>\n",
       "    <tr>\n",
       "      <th>4</th>\n",
       "      <td>-0.000013</td>\n",
       "      <td>refunding</td>\n",
       "      <td>0</td>\n",
       "    </tr>\n",
       "  </tbody>\n",
       "</table>\n",
       "</div>"
      ],
      "text/plain": [
       "      value        word  topic\n",
       "0 -0.000011       apply      0\n",
       "1 -0.000011       radio      0\n",
       "2 -0.000011    freezing      0\n",
       "3 -0.000012  screenshot      0\n",
       "4 -0.000013   refunding      0"
      ]
     },
     "execution_count": 42,
     "metadata": {},
     "output_type": "execute_result"
    }
   ],
   "source": [
    "n_words = 10\n",
    "\n",
    "topic_words = pd.DataFrame({})\n",
    "\n",
    "for i, topic in enumerate(lsi_model.get_topics()):\n",
    "    top_feature_ids = topic.argsort()[-n_words:][::-1]\n",
    "    feature_values = topic[top_feature_ids]\n",
    "    words = [dictionary[id] for id in top_feature_ids]\n",
    "    topic_df = pd.DataFrame({'value': feature_values, 'word': words, 'topic': i})\n",
    "    topic_words = pd.concat([topic_words, topic_df], ignore_index=True)\n",
    "\n",
    "topic_words.head()"
   ]
  },
  {
   "cell_type": "code",
   "execution_count": 44,
   "metadata": {},
   "outputs": [
    {
     "data": {
      "text/plain": [
       "<seaborn.axisgrid.FacetGrid at 0x1727f047b50>"
      ]
     },
     "execution_count": 44,
     "metadata": {},
     "output_type": "execute_result"
    },
    {
     "data": {
      "image/png": "[encoded data removed]",
      "text/plain": [
       "<Figure size 900x1200 with 10 Axes>"
      ]
     },
     "metadata": {},
     "output_type": "display_data"
    }
   ],
   "source": [
    "import seaborn as sns\n",
    "\n",
    "g = sns.FacetGrid(topic_words, col=\"topic\", col_wrap=3, sharey=False)\n",
    "g.map(plt.barh, \"word\", \"value\")"
   ]
  },
  {
   "cell_type": "code",
   "execution_count": 45,
   "metadata": {},
   "outputs": [],
   "source": [
    "n_topics = 10\n",
    "\n",
    "# Build an LDA model\n",
    "lda_model = models.LdaModel(corpus_tfidf, id2word=dictionary, num_topics=n_topics)"
   ]
  },
  {
   "cell_type": "code",
   "execution_count": 46,
   "metadata": {},
   "outputs": [
    {
     "data": {
      "text/plain": [
       "[(0,\n",
       "  '0.036*\"rude\" + 0.022*\"rider\" + 0.020*\"several\" + 0.019*\"driver\" + 0.015*\"mile\" + 0.014*\"really\" + 0.014*\"experience\" + 0.012*\"used\" + 0.012*\"very\" + 0.011*\"credit\"'),\n",
       " (1,\n",
       "  '0.027*\"fare\" + 0.017*\"airport\" + 0.016*\"home\" + 0.014*\"able\" + 0.014*\"service\" + 0.013*\"other\" + 0.013*\"people\" + 0.012*\"late\" + 0.011*\"minute\" + 0.010*\"thought\"'),\n",
       " (2,\n",
       "  '0.025*\"utaxi\" + 0.015*\"contact\" + 0.014*\"charge\" + 0.012*\"check\" + 0.012*\"one\" + 0.010*\"requested\" + 0.009*\"over\" + 0.009*\"like\" + 0.008*\"driver\" + 0.008*\"support\"'),\n",
       " (3,\n",
       "  '0.078*\"service\" + 0.076*\"other\" + 0.073*\"advertising\" + 0.021*\"people\" + 0.019*\"three\" + 0.016*\"scam\" + 0.013*\"sometimes\" + 0.012*\"fast\" + 0.011*\"background\" + 0.010*\"finally\"'),\n",
       " (4,\n",
       "  '0.024*\"prompt\" + 0.022*\"perfect\" + 0.022*\"both\" + 0.020*\"music\" + 0.019*\"online\" + 0.015*\"experience\" + 0.014*\"response\" + 0.012*\"always\" + 0.012*\"fraud\" + 0.012*\"car\"'),\n",
       " (5,\n",
       "  '0.023*\"they\" + 0.021*\"utaxi\" + 0.014*\"great\" + 0.013*\"best\" + 0.013*\"driver\" + 0.013*\"the\" + 0.012*\"company\" + 0.012*\"credit\" + 0.011*\"arrived\" + 0.010*\"same\"'),\n",
       " (6,\n",
       "  '0.027*\"utaxi\" + 0.015*\"not\" + 0.015*\"account\" + 0.014*\"card\" + 0.011*\"charged\" + 0.010*\"money\" + 0.010*\"problem\" + 0.010*\"issue\" + 0.009*\"time\" + 0.009*\"many\"'),\n",
       " (7,\n",
       "  '0.024*\"ve\" + 0.023*\"very\" + 0.023*\"good\" + 0.022*\"nice\" + 0.016*\"friendly\" + 0.016*\"driver\" + 0.015*\"convenient\" + 0.015*\"being\" + 0.014*\"professional\" + 0.012*\"polite\"'),\n",
       " (8,\n",
       "  '0.047*\"utaxi\" + 0.018*\"app\" + 0.017*\"them\" + 0.014*\"cab\" + 0.013*\"time\" + 0.013*\"would\" + 0.012*\"around\" + 0.011*\"use\" + 0.011*\"work\" + 0.010*\"then\"'),\n",
       " (9,\n",
       "  '0.021*\"them\" + 0.020*\"fee\" + 0.019*\"cancelled\" + 0.015*\"easy\" + 0.013*\"time\" + 0.013*\"always\" + 0.012*\"cost\" + 0.011*\"morning\" + 0.011*\"using\" + 0.011*\"taking\"')]"
      ]
     },
     "execution_count": 46,
     "metadata": {},
     "output_type": "execute_result"
    }
   ],
   "source": [
    "lda_model.print_topics()"
   ]
  },
  {
   "cell_type": "code",
   "execution_count": 47,
   "metadata": {},
   "outputs": [
    {
     "data": {
      "text/html": [
       "<div>\n",
       "<style scoped>\n",
       "    .dataframe tbody tr th:only-of-type {\n",
       "        vertical-align: middle;\n",
       "    }\n",
       "\n",
       "    .dataframe tbody tr th {\n",
       "        vertical-align: top;\n",
       "    }\n",
       "\n",
       "    .dataframe thead th {\n",
       "        text-align: right;\n",
       "    }\n",
       "</style>\n",
       "<table border=\"1\" class=\"dataframe\">\n",
       "  <thead>\n",
       "    <tr style=\"text-align: right;\">\n",
       "      <th></th>\n",
       "      <th>value</th>\n",
       "      <th>word</th>\n",
       "      <th>topic</th>\n",
       "    </tr>\n",
       "  </thead>\n",
       "  <tbody>\n",
       "    <tr>\n",
       "      <th>0</th>\n",
       "      <td>0.036207</td>\n",
       "      <td>rude</td>\n",
       "      <td>0</td>\n",
       "    </tr>\n",
       "    <tr>\n",
       "      <th>1</th>\n",
       "      <td>0.021739</td>\n",
       "      <td>rider</td>\n",
       "      <td>0</td>\n",
       "    </tr>\n",
       "    <tr>\n",
       "      <th>2</th>\n",
       "      <td>0.019520</td>\n",
       "      <td>several</td>\n",
       "      <td>0</td>\n",
       "    </tr>\n",
       "    <tr>\n",
       "      <th>3</th>\n",
       "      <td>0.018851</td>\n",
       "      <td>driver</td>\n",
       "      <td>0</td>\n",
       "    </tr>\n",
       "    <tr>\n",
       "      <th>4</th>\n",
       "      <td>0.014786</td>\n",
       "      <td>mile</td>\n",
       "      <td>0</td>\n",
       "    </tr>\n",
       "  </tbody>\n",
       "</table>\n",
       "</div>"
      ],
      "text/plain": [
       "      value     word  topic\n",
       "0  0.036207     rude      0\n",
       "1  0.021739    rider      0\n",
       "2  0.019520  several      0\n",
       "3  0.018851   driver      0\n",
       "4  0.014786     mile      0"
      ]
     },
     "execution_count": 47,
     "metadata": {},
     "output_type": "execute_result"
    }
   ],
   "source": [
    "n_words = 10\n",
    "topic_words = pd.DataFrame({})\n",
    "\n",
    "for i, topic in enumerate(lda_model.get_topics()):\n",
    "    top_feature_ids = topic.argsort()[-n_words:][::-1]\n",
    "    feature_values = topic[top_feature_ids]\n",
    "    words = [dictionary[id] for id in top_feature_ids]\n",
    "    topic_df = pd.DataFrame({'value': feature_values, 'word': words, 'topic': i})\n",
    "    topic_words = pd.concat([topic_words, topic_df], ignore_index=True)\n",
    "\n",
    "topic_words.head()"
   ]
  },
  {
   "cell_type": "code",
   "execution_count": 48,
   "metadata": {},
   "outputs": [
    {
     "data": {
      "text/plain": [
       "<seaborn.axisgrid.FacetGrid at 0x17202eaf710>"
      ]
     },
     "execution_count": 48,
     "metadata": {},
     "output_type": "execute_result"
    },
    {
     "data": {
      "image/png": "[encoded data removed]",
      "text/plain": [
       "<Figure size 900x1200 with 10 Axes>"
      ]
     },
     "metadata": {},
     "output_type": "display_data"
    }
   ],
   "source": [
    "import seaborn as sns\n",
    "\n",
    "g = sns.FacetGrid(topic_words, col=\"topic\", col_wrap=3, sharey=False)\n",
    "g.map(plt.barh, \"word\", \"value\")"
   ]
  },
  {
   "attachments": {},
   "cell_type": "markdown",
   "metadata": {},
   "source": [
    "##### **BERTopic**\n",
    "\n",
    "*BERTopic is a powerful tool for tasks such as document clustering, topic extraction based on the BERT (Bidirectional Encoder Representations from Transformers) algorithm.*"
   ]
  },
  {
   "cell_type": "code",
   "execution_count": 53,
   "metadata": {},
   "outputs": [
    {
     "name": "stdout",
     "output_type": "stream",
     "text": [
      "Collecting cython\n",
      "  Downloading Cython-3.0.8-cp311-cp311-win_amd64.whl.metadata (3.2 kB)\n",
      "Downloading Cython-3.0.8-cp311-cp311-win_amd64.whl (2.8 MB)\n",
      "   ---------------------------------------- 0.0/2.8 MB ? eta -:--:--\n",
      "   ---------------------------------------- 0.0/2.8 MB ? eta -:--:--\n",
      "   ---------------------------------------- 0.0/2.8 MB ? eta -:--:--\n",
      "   ---------------------------------------- 0.0/2.8 MB 262.6 kB/s eta 0:00:11\n",
      "   ---------------------------------------- 0.0/2.8 MB 262.6 kB/s eta 0:00:11\n",
      "   ---------------------------------------- 0.0/2.8 MB 262.6 kB/s eta 0:00:11\n",
      "   ---------------------------------------- 0.0/2.8 MB 262.6 kB/s eta 0:00:11\n",
      "   ---------------------------------------- 0.0/2.8 MB 262.6 kB/s eta 0:00:11\n",
      "   ---------------------------------------- 0.0/2.8 MB 262.6 kB/s eta 0:00:11\n",
      "    --------------------------------------- 0.1/2.8 MB 156.1 kB/s eta 0:00:18\n",
      "   - -------------------------------------- 0.1/2.8 MB 261.9 kB/s eta 0:00:11\n",
      "   --- ------------------------------------ 0.2/2.8 MB 515.5 kB/s eta 0:00:05\n",
      "   ----- ---------------------------------- 0.4/2.8 MB 742.3 kB/s eta 0:00:04\n",
      "   ------ --------------------------------- 0.5/2.8 MB 901.1 kB/s eta 0:00:03\n",
      "   ----------- ---------------------------- 0.8/2.8 MB 1.4 MB/s eta 0:00:02\n",
      "   --------------------- ------------------ 1.5/2.8 MB 2.5 MB/s eta 0:00:01\n",
      "   ---------------------------------------  2.8/2.8 MB 4.3 MB/s eta 0:00:01\n",
      "   ---------------------------------------- 2.8/2.8 MB 4.0 MB/s eta 0:00:00\n",
      "Installing collected packages: cython\n",
      "Successfully installed cython-3.0.8\n"
     ]
    }
   ],
   "source": [
    "!pip install cython"
   ]
  },
  {
   "cell_type": "code",
   "execution_count": null,
   "metadata": {},
   "outputs": [],
   "source": [
    "!pip install bertopic"
   ]
  },
  {
   "cell_type": "code",
   "execution_count": null,
   "metadata": {},
   "outputs": [],
   "source": [
    "from bertopic import BERTopic\n",
    "from umap import UMAP\n",
    "from hdbscan import HDBSCAN\n",
    "from sklearn.cluster import KMeans"
   ]
  },
  {
   "cell_type": "code",
   "execution_count": 40,
   "metadata": {},
   "outputs": [],
   "source": [
    "corpus = reviews[\"clean_custom_comment\"].to_list()"
   ]
  },
  {
   "cell_type": "code",
   "execution_count": 41,
   "metadata": {},
   "outputs": [],
   "source": [
    "try:\n",
    "  topic_model = BERTopic()\n",
    "  topics, probs = topic_model.fit_transform(corpus)\n",
    "except Exception as e:\n",
    "  print(e)"
   ]
  },
  {
   "cell_type": "code",
   "execution_count": 42,
   "metadata": {},
   "outputs": [],
   "source": [
    "# umap_model = UMAP(n_neighbors=15, n_components=10, min_dist=0.0, metric='cosine')\n",
    "\n",
    "cluster_model = KMeans(n_clusters=15)\n",
    "\n",
    "topic_model = BERTopic(hdbscan_model=cluster_model)\n",
    "topics, probs = topic_model.fit_transform(corpus)"
   ]
  },
  {
   "cell_type": "code",
   "execution_count": 41,
   "metadata": {},
   "outputs": [
    {
     "data": {
      "text/html": [
       "<div>\n",
       "<style scoped>\n",
       "    .dataframe tbody tr th:only-of-type {\n",
       "        vertical-align: middle;\n",
       "    }\n",
       "\n",
       "    .dataframe tbody tr th {\n",
       "        vertical-align: top;\n",
       "    }\n",
       "\n",
       "    .dataframe thead th {\n",
       "        text-align: right;\n",
       "    }\n",
       "</style>\n",
       "<table border=\"1\" class=\"dataframe\">\n",
       "  <thead>\n",
       "    <tr style=\"text-align: right;\">\n",
       "      <th></th>\n",
       "      <th>Topic</th>\n",
       "      <th>Count</th>\n",
       "      <th>Name</th>\n",
       "      <th>Representation</th>\n",
       "      <th>Representative_Docs</th>\n",
       "    </tr>\n",
       "  </thead>\n",
       "  <tbody>\n",
       "    <tr>\n",
       "      <th>0</th>\n",
       "      <td>0</td>\n",
       "      <td>988</td>\n",
       "      <td>0_driver_idle_address_arrived</td>\n",
       "      <td>[driver, idle, address, arrived, didn, started...</td>\n",
       "      <td>[idle started before taxi arrived, arrived lat...</td>\n",
       "    </tr>\n",
       "    <tr>\n",
       "      <th>1</th>\n",
       "      <td>1</td>\n",
       "      <td>853</td>\n",
       "      <td>1_driver_car_very_nice</td>\n",
       "      <td>[driver, car, very, nice, good, great, trip, t...</td>\n",
       "      <td>[amazing very nice car very nice trip, Very ni...</td>\n",
       "    </tr>\n",
       "    <tr>\n",
       "      <th>2</th>\n",
       "      <td>2</td>\n",
       "      <td>717</td>\n",
       "      <td>2_driver_rude_driving_very</td>\n",
       "      <td>[driver, rude, driving, very, bad, the, fast, ...</td>\n",
       "      <td>[Driver very rude, Driver very rude, The drive...</td>\n",
       "    </tr>\n",
       "    <tr>\n",
       "      <th>3</th>\n",
       "      <td>3</td>\n",
       "      <td>702</td>\n",
       "      <td>3_utaxi_not_nt_time</td>\n",
       "      <td>[utaxi, not, nt, time, ride, driver, customer,...</td>\n",
       "      <td>[asked picked Utaxi 2/13/18 really cold out da...</td>\n",
       "    </tr>\n",
       "    <tr>\n",
       "      <th>4</th>\n",
       "      <td>4</td>\n",
       "      <td>530</td>\n",
       "      <td>4_rude_bad_very_behavior</td>\n",
       "      <td>[rude, bad, very, behavior, behaviour, racist,...</td>\n",
       "      <td>[very rude, Very rude, very rude]</td>\n",
       "    </tr>\n",
       "    <tr>\n",
       "      <th>5</th>\n",
       "      <td>5</td>\n",
       "      <td>497</td>\n",
       "      <td>5_wrong_location_address_drop</td>\n",
       "      <td>[wrong, location, address, drop, dropped, plac...</td>\n",
       "      <td>[Arrived wrong address, arrived wrong location...</td>\n",
       "    </tr>\n",
       "    <tr>\n",
       "      <th>6</th>\n",
       "      <td>6</td>\n",
       "      <td>473</td>\n",
       "      <td>6_money_change_uah_give</td>\n",
       "      <td>[money, change, uah, give, more, extra, driver...</td>\n",
       "      <td>[Very rude driver didn want give money back, d...</td>\n",
       "    </tr>\n",
       "    <tr>\n",
       "      <th>7</th>\n",
       "      <td>7</td>\n",
       "      <td>467</td>\n",
       "      <td>7_phone_car_driving_mask</td>\n",
       "      <td>[phone, car, driving, mask, while, driver, col...</td>\n",
       "      <td>[using phone while driving, Very bad driving u...</td>\n",
       "    </tr>\n",
       "    <tr>\n",
       "      <th>8</th>\n",
       "      <td>8</td>\n",
       "      <td>377</td>\n",
       "      <td>8_english_very_good_nice</td>\n",
       "      <td>[english, very, good, nice, great, guy, man, f...</td>\n",
       "      <td>[good car driver speaks very good English, dri...</td>\n",
       "    </tr>\n",
       "    <tr>\n",
       "      <th>9</th>\n",
       "      <td>9</td>\n",
       "      <td>375</td>\n",
       "      <td>9_advertising_other_service_serviceshe</td>\n",
       "      <td>[advertising, other, service, serviceshe, serv...</td>\n",
       "      <td>[Advertising other service, Advertising other ...</td>\n",
       "    </tr>\n",
       "    <tr>\n",
       "      <th>10</th>\n",
       "      <td>10</td>\n",
       "      <td>168</td>\n",
       "      <td>10_music_russian_loud_ukraine</td>\n",
       "      <td>[music, russian, loud, ukraine, ukrainian, bes...</td>\n",
       "      <td>[The music loud, Loud Russian music, music]</td>\n",
       "    </tr>\n",
       "    <tr>\n",
       "      <th>11</th>\n",
       "      <td>11</td>\n",
       "      <td>121</td>\n",
       "      <td>11_perfect_thanks_great_thank</td>\n",
       "      <td>[perfect, thanks, great, thank, everything, go...</td>\n",
       "      <td>[Perfect, Perfect Thanks, thanks lot perfect]</td>\n",
       "    </tr>\n",
       "    <tr>\n",
       "      <th>12</th>\n",
       "      <td>12</td>\n",
       "      <td>40</td>\n",
       "      <td>12_best_the_ever_one</td>\n",
       "      <td>[best, the, ever, one, world, ukraine, you, th...</td>\n",
       "      <td>[The best best, The best best, The best best]</td>\n",
       "    </tr>\n",
       "    <tr>\n",
       "      <th>13</th>\n",
       "      <td>13</td>\n",
       "      <td>38</td>\n",
       "      <td>13_bad_very_horrible_worst</td>\n",
       "      <td>[bad, very, horrible, worst, porson, shitty, c...</td>\n",
       "      <td>[Very bad, Very bad, Very bad]</td>\n",
       "    </tr>\n",
       "    <tr>\n",
       "      <th>14</th>\n",
       "      <td>14</td>\n",
       "      <td>11</td>\n",
       "      <td>14_other_somehow__</td>\n",
       "      <td>[other, somehow, , , , , , , , ]</td>\n",
       "      <td>[Other, Other, Other]</td>\n",
       "    </tr>\n",
       "  </tbody>\n",
       "</table>\n",
       "</div>"
      ],
      "text/plain": [
       "    Topic  Count                                    Name  \\\n",
       "0       0    988           0_driver_idle_address_arrived   \n",
       "1       1    853                  1_driver_car_very_nice   \n",
       "2       2    717              2_driver_rude_driving_very   \n",
       "3       3    702                     3_utaxi_not_nt_time   \n",
       "4       4    530                4_rude_bad_very_behavior   \n",
       "5       5    497           5_wrong_location_address_drop   \n",
       "6       6    473                 6_money_change_uah_give   \n",
       "7       7    467                7_phone_car_driving_mask   \n",
       "8       8    377                8_english_very_good_nice   \n",
       "9       9    375  9_advertising_other_service_serviceshe   \n",
       "10     10    168           10_music_russian_loud_ukraine   \n",
       "11     11    121           11_perfect_thanks_great_thank   \n",
       "12     12     40                    12_best_the_ever_one   \n",
       "13     13     38              13_bad_very_horrible_worst   \n",
       "14     14     11                      14_other_somehow__   \n",
       "\n",
       "                                       Representation  \\\n",
       "0   [driver, idle, address, arrived, didn, started...   \n",
       "1   [driver, car, very, nice, good, great, trip, t...   \n",
       "2   [driver, rude, driving, very, bad, the, fast, ...   \n",
       "3   [utaxi, not, nt, time, ride, driver, customer,...   \n",
       "4   [rude, bad, very, behavior, behaviour, racist,...   \n",
       "5   [wrong, location, address, drop, dropped, plac...   \n",
       "6   [money, change, uah, give, more, extra, driver...   \n",
       "7   [phone, car, driving, mask, while, driver, col...   \n",
       "8   [english, very, good, nice, great, guy, man, f...   \n",
       "9   [advertising, other, service, serviceshe, serv...   \n",
       "10  [music, russian, loud, ukraine, ukrainian, bes...   \n",
       "11  [perfect, thanks, great, thank, everything, go...   \n",
       "12  [best, the, ever, one, world, ukraine, you, th...   \n",
       "13  [bad, very, horrible, worst, porson, shitty, c...   \n",
       "14                   [other, somehow, , , , , , , , ]   \n",
       "\n",
       "                                  Representative_Docs  \n",
       "0   [idle started before taxi arrived, arrived lat...  \n",
       "1   [amazing very nice car very nice trip, Very ni...  \n",
       "2   [Driver very rude, Driver very rude, The drive...  \n",
       "3   [asked picked Utaxi 2/13/18 really cold out da...  \n",
       "4                   [very rude, Very rude, very rude]  \n",
       "5   [Arrived wrong address, arrived wrong location...  \n",
       "6   [Very rude driver didn want give money back, d...  \n",
       "7   [using phone while driving, Very bad driving u...  \n",
       "8   [good car driver speaks very good English, dri...  \n",
       "9   [Advertising other service, Advertising other ...  \n",
       "10        [The music loud, Loud Russian music, music]  \n",
       "11      [Perfect, Perfect Thanks, thanks lot perfect]  \n",
       "12      [The best best, The best best, The best best]  \n",
       "13                     [Very bad, Very bad, Very bad]  \n",
       "14                              [Other, Other, Other]  "
      ]
     },
     "execution_count": 41,
     "metadata": {},
     "output_type": "execute_result"
    }
   ],
   "source": [
    "# To see how many topics were extracted, and how many tokens are associated to each of these topics\n",
    "\n",
    "topic_model.get_topic_info()\n",
    "\n",
    "# [Topic] -1 refers to all outliers and should typically be ignored\""
   ]
  },
  {
   "cell_type": "code",
   "execution_count": 43,
   "metadata": {},
   "outputs": [
    {
     "name": "stdout",
     "output_type": "stream",
     "text": [
      "\n",
      "Topic: 1\n",
      "\n",
      "\t driver\n",
      "\t idle\n",
      "\t didn\n",
      "\t address\n",
      "\t arrived\n",
      "\t started\n",
      "\t late\n",
      "\t wrong\n",
      "\t location\n",
      "\t route\n",
      "\n",
      "Topic: 2\n",
      "\n",
      "\t driver\n",
      "\t car\n",
      "\t very\n",
      "\t nice\n",
      "\t good\n",
      "\t great\n",
      "\t smell\n",
      "\t trip\n",
      "\t polite\n",
      "\t the\n",
      "\n",
      "Topic: 3\n",
      "\n",
      "\t utaxi\n",
      "\t not\n",
      "\t nt\n",
      "\t time\n",
      "\t ride\n",
      "\t driver\n",
      "\t customer\n",
      "\t use\n",
      "\t app\n",
      "\t them\n",
      "\n",
      "Topic: 4\n",
      "\n",
      "\t rude\n",
      "\t very\n",
      "\t bad\n",
      "\t behavior\n",
      "\t behaviour\n",
      "\t racist\n",
      "\t shouting\n",
      "\t not\n",
      "\t slow\n",
      "\t was\n",
      "\n",
      "Topic: 5\n",
      "\n",
      "\t money\n",
      "\t change\n",
      "\t give\n",
      "\t uah\n",
      "\t more\n",
      "\t driver\n",
      "\t extra\n",
      "\t didn\n",
      "\t took\n",
      "\t pay\n",
      "\n",
      "Topic: 6\n",
      "\n",
      "\t wrong\n",
      "\t location\n",
      "\t address\n",
      "\t drop\n",
      "\t dropped\n",
      "\t place\n",
      "\t arrived\n",
      "\t late\n",
      "\t did\n",
      "\t didn\n",
      "\n",
      "Topic: 7\n",
      "\n",
      "\t driving\n",
      "\t mask\n",
      "\t fast\n",
      "\t too\n",
      "\t driver\n",
      "\t drive\n",
      "\t cold\n",
      "\t car\n",
      "\t rule\n",
      "\t very\n",
      "\n",
      "Topic: 8\n",
      "\n",
      "\t rude\n",
      "\t driver\n",
      "\t very\n",
      "\t racist\n",
      "\t the\n",
      "\t bad\n",
      "\t not\n",
      "\t him\n",
      "\t attitude\n",
      "\t car\n",
      "\n",
      "Topic: 9\n",
      "\n",
      "\t advertising\n",
      "\t other\n",
      "\t service\n",
      "\t serviceshe\n",
      "\t servicesvery\n",
      "\t servicesbad\n",
      "\t servicesdidn\n",
      "\t serviceswas\n",
      "\t servicesso\n",
      "\t servicesnot\n",
      "\n",
      "Topic: 10\n",
      "\n",
      "\t great\n",
      "\t nice\n",
      "\t very\n",
      "\t guy\n",
      "\t good\n",
      "\t thanks\n",
      "\t man\n",
      "\t service\n",
      "\t thank\n",
      "\t recommend\n",
      "\n",
      "Topic: 11\n",
      "\n",
      "\t music\n",
      "\t english\n",
      "\t good\n",
      "\t russian\n",
      "\t loud\n",
      "\t speaks\n",
      "\t speak\n",
      "\t ukraine\n",
      "\t nice\n",
      "\t language\n",
      "\n",
      "Topic: 12\n",
      "\n",
      "\t phone\n",
      "\t driving\n",
      "\t while\n",
      "\t texting\n",
      "\t car\n",
      "\t forgot\n",
      "\t talking\n",
      "\t driver\n",
      "\t during\n",
      "\t left\n",
      "\n",
      "Topic: 13\n",
      "\n",
      "\t perfect\n",
      "\t bad\n",
      "\t very\n",
      "\t perfecto\n",
      "\t horrible\n",
      "\t worst\n",
      "\t porson\n",
      "\t physo\n",
      "\t shitty\n",
      "\t cursed\n",
      "\n",
      "Topic: 14\n",
      "\n",
      "\t best\n",
      "\t the\n",
      "\t ever\n",
      "\t one\n",
      "\t world\n",
      "\t ukraine\n",
      "\t you\n",
      "\t thank\n",
      "\t man\n",
      "\t much\n",
      "\n",
      "Topic: 15\n",
      "\n",
      "\t other\n",
      "\t somehow\n",
      "\t \n",
      "\t \n",
      "\t \n",
      "\t \n",
      "\t \n",
      "\t \n",
      "\t \n",
      "\t \n"
     ]
    }
   ],
   "source": [
    "def showTopics():\n",
    "  for topics in range(0, (len(topic_model.get_topic_info()))):\n",
    "    print(f\"\\nTopic: {topics + 1}\\n\")\n",
    "    for t in topic_model.get_topic(topics):\n",
    "      print(\"\\t\", t[0])\n",
    "\n",
    "showTopics()"
   ]
  },
  {
   "cell_type": "code",
   "execution_count": 44,
   "metadata": {},
   "outputs": [
    {
     "data": {
      "application/vnd.plotly.v1+json": {
       "config": {
        "plotlyServerURL": "https://plot.ly"
       },
       "data": [
        {
         "marker": {
          "color": "#D55E00"
         },
         "orientation": "h",
         "type": "bar",
         "x": [
          0.03867130912513721,
          0.03912020402185661,
          0.04131509451356395,
          0.066859737417154,
          0.068585472455496
         ],
         "xaxis": "x",
         "y": [
          "arrived  ",
          "address  ",
          "didn  ",
          "idle  ",
          "driver  "
         ],
         "yaxis": "y"
        },
        {
         "marker": {
          "color": "#0072B2"
         },
         "orientation": "h",
         "type": "bar",
         "x": [
          0.07260351969741881,
          0.0822974305159653,
          0.08442986289508608,
          0.09743621396873431,
          0.10239531629033771
         ],
         "xaxis": "x2",
         "y": [
          "good  ",
          "nice  ",
          "very  ",
          "car  ",
          "driver  "
         ],
         "yaxis": "y2"
        },
        {
         "marker": {
          "color": "#CC79A7"
         },
         "orientation": "h",
         "type": "bar",
         "x": [
          0.022877311549958524,
          0.023856610566410072,
          0.02433922630295829,
          0.024872159523711797,
          0.05876691516560381
         ],
         "xaxis": "x3",
         "y": [
          "ride  ",
          "time  ",
          "nt  ",
          "not  ",
          "utaxi  "
         ],
         "yaxis": "y3"
        },
        {
         "marker": {
          "color": "#E69F00"
         },
         "orientation": "h",
         "type": "bar",
         "x": [
          0.07503727788165276,
          0.09149247211045604,
          0.10886635800298905,
          0.1255884669435683,
          0.2000918125421976
         ],
         "xaxis": "x4",
         "y": [
          "behaviour  ",
          "behavior  ",
          "bad  ",
          "very  ",
          "rude  "
         ],
         "yaxis": "y4"
        },
        {
         "marker": {
          "color": "#56B4E9"
         },
         "orientation": "h",
         "type": "bar",
         "x": [
          0.04982666293451825,
          0.059095788264189694,
          0.059409645992700315,
          0.08009168648626586,
          0.10432846879156712
         ],
         "xaxis": "x5",
         "y": [
          "more  ",
          "uah  ",
          "give  ",
          "change  ",
          "money  "
         ],
         "yaxis": "y5"
        },
        {
         "marker": {
          "color": "#009E73"
         },
         "orientation": "h",
         "type": "bar",
         "x": [
          0.05831348984919141,
          0.06374472085939492,
          0.1014546273417163,
          0.10260598549320236,
          0.14312782980197344
         ],
         "xaxis": "x6",
         "y": [
          "dropped  ",
          "drop  ",
          "address  ",
          "location  ",
          "wrong  "
         ],
         "yaxis": "y6"
        },
        {
         "marker": {
          "color": "#F0E442"
         },
         "orientation": "h",
         "type": "bar",
         "x": [
          0.05207443775392985,
          0.05487404220971258,
          0.06390923795788829,
          0.07324971902180961,
          0.10867950012433461
         ],
         "xaxis": "x7",
         "y": [
          "driver  ",
          "too  ",
          "fast  ",
          "mask  ",
          "driving  "
         ],
         "yaxis": "y7"
        },
        {
         "marker": {
          "color": "#D55E00"
         },
         "orientation": "h",
         "type": "bar",
         "x": [
          0.04711900744942943,
          0.060928876597895726,
          0.06472546904317544,
          0.11638634378627505,
          0.12917810788008707
         ],
         "xaxis": "x8",
         "y": [
          "the  ",
          "racist  ",
          "very  ",
          "driver  ",
          "rude  "
         ],
         "yaxis": "y8"
        }
       ],
       "layout": {
        "annotations": [
         {
          "font": {
           "size": 16
          },
          "showarrow": false,
          "text": "Topic 0",
          "x": 0.0875,
          "xanchor": "center",
          "xref": "paper",
          "y": 1,
          "yanchor": "bottom",
          "yref": "paper"
         },
         {
          "font": {
           "size": 16
          },
          "showarrow": false,
          "text": "Topic 1",
          "x": 0.36250000000000004,
          "xanchor": "center",
          "xref": "paper",
          "y": 1,
          "yanchor": "bottom",
          "yref": "paper"
         },
         {
          "font": {
           "size": 16
          },
          "showarrow": false,
          "text": "Topic 2",
          "x": 0.6375000000000001,
          "xanchor": "center",
          "xref": "paper",
          "y": 1,
          "yanchor": "bottom",
          "yref": "paper"
         },
         {
          "font": {
           "size": 16
          },
          "showarrow": false,
          "text": "Topic 3",
          "x": 0.9125,
          "xanchor": "center",
          "xref": "paper",
          "y": 1,
          "yanchor": "bottom",
          "yref": "paper"
         },
         {
          "font": {
           "size": 16
          },
          "showarrow": false,
          "text": "Topic 4",
          "x": 0.0875,
          "xanchor": "center",
          "xref": "paper",
          "y": 0.4,
          "yanchor": "bottom",
          "yref": "paper"
         },
         {
          "font": {
           "size": 16
          },
          "showarrow": false,
          "text": "Topic 5",
          "x": 0.36250000000000004,
          "xanchor": "center",
          "xref": "paper",
          "y": 0.4,
          "yanchor": "bottom",
          "yref": "paper"
         },
         {
          "font": {
           "size": 16
          },
          "showarrow": false,
          "text": "Topic 6",
          "x": 0.6375000000000001,
          "xanchor": "center",
          "xref": "paper",
          "y": 0.4,
          "yanchor": "bottom",
          "yref": "paper"
         },
         {
          "font": {
           "size": 16
          },
          "showarrow": false,
          "text": "Topic 7",
          "x": 0.9125,
          "xanchor": "center",
          "xref": "paper",
          "y": 0.4,
          "yanchor": "bottom",
          "yref": "paper"
         }
        ],
        "height": 500,
        "hoverlabel": {
         "bgcolor": "white",
         "font": {
          "family": "Rockwell",
          "size": 16
         }
        },
        "showlegend": false,
        "template": {
         "data": {
          "bar": [
           {
            "error_x": {
             "color": "#2a3f5f"
            },
            "error_y": {
             "color": "#2a3f5f"
            },
            "marker": {
             "line": {
              "color": "white",
              "width": 0.5
             },
             "pattern": {
              "fillmode": "overlay",
              "size": 10,
              "solidity": 0.2
             }
            },
            "type": "bar"
           }
          ],
          "barpolar": [
           {
            "marker": {
             "line": {
              "color": "white",
              "width": 0.5
             },
             "pattern": {
              "fillmode": "overlay",
              "size": 10,
              "solidity": 0.2
             }
            },
            "type": "barpolar"
           }
          ],
          "carpet": [
           {
            "aaxis": {
             "endlinecolor": "#2a3f5f",
             "gridcolor": "#C8D4E3",
             "linecolor": "#C8D4E3",
             "minorgridcolor": "#C8D4E3",
             "startlinecolor": "#2a3f5f"
            },
            "baxis": {
             "endlinecolor": "#2a3f5f",
             "gridcolor": "#C8D4E3",
             "linecolor": "#C8D4E3",
             "minorgridcolor": "#C8D4E3",
             "startlinecolor": "#2a3f5f"
            },
            "type": "carpet"
           }
          ],
          "choropleth": [
           {
            "colorbar": {
             "outlinewidth": 0,
             "ticks": ""
            },
            "type": "choropleth"
           }
          ],
          "contour": [
           {
            "colorbar": {
             "outlinewidth": 0,
             "ticks": ""
            },
            "colorscale": [
             [
              0,
              "#0d0887"
             ],
             [
              0.1111111111111111,
              "#46039f"
             ],
             [
              0.2222222222222222,
              "#7201a8"
             ],
             [
              0.3333333333333333,
              "#9c179e"
             ],
             [
              0.4444444444444444,
              "#bd3786"
             ],
             [
              0.5555555555555556,
              "#d8576b"
             ],
             [
              0.6666666666666666,
              "#ed7953"
             ],
             [
              0.7777777777777778,
              "#fb9f3a"
             ],
             [
              0.8888888888888888,
              "#fdca26"
             ],
             [
              1,
              "#f0f921"
             ]
            ],
            "type": "contour"
           }
          ],
          "contourcarpet": [
           {
            "colorbar": {
             "outlinewidth": 0,
             "ticks": ""
            },
            "type": "contourcarpet"
           }
          ],
          "heatmap": [
           {
            "colorbar": {
             "outlinewidth": 0,
             "ticks": ""
            },
            "colorscale": [
             [
              0,
              "#0d0887"
             ],
             [
              0.1111111111111111,
              "#46039f"
             ],
             [
              0.2222222222222222,
              "#7201a8"
             ],
             [
              0.3333333333333333,
              "#9c179e"
             ],
             [
              0.4444444444444444,
              "#bd3786"
             ],
             [
              0.5555555555555556,
              "#d8576b"
             ],
             [
              0.6666666666666666,
              "#ed7953"
             ],
             [
              0.7777777777777778,
              "#fb9f3a"
             ],
             [
              0.8888888888888888,
              "#fdca26"
             ],
             [
              1,
              "#f0f921"
             ]
            ],
            "type": "heatmap"
           }
          ],
          "heatmapgl": [
           {
            "colorbar": {
             "outlinewidth": 0,
             "ticks": ""
            },
            "colorscale": [
             [
              0,
              "#0d0887"
             ],
             [
              0.1111111111111111,
              "#46039f"
             ],
             [
              0.2222222222222222,
              "#7201a8"
             ],
             [
              0.3333333333333333,
              "#9c179e"
             ],
             [
              0.4444444444444444,
              "#bd3786"
             ],
             [
              0.5555555555555556,
              "#d8576b"
             ],
             [
              0.6666666666666666,
              "#ed7953"
             ],
             [
              0.7777777777777778,
              "#fb9f3a"
             ],
             [
              0.8888888888888888,
              "#fdca26"
             ],
             [
              1,
              "#f0f921"
             ]
            ],
            "type": "heatmapgl"
           }
          ],
          "histogram": [
           {
            "marker": {
             "pattern": {
              "fillmode": "overlay",
              "size": 10,
              "solidity": 0.2
             }
            },
            "type": "histogram"
           }
          ],
          "histogram2d": [
           {
            "colorbar": {
             "outlinewidth": 0,
             "ticks": ""
            },
            "colorscale": [
             [
              0,
              "#0d0887"
             ],
             [
              0.1111111111111111,
              "#46039f"
             ],
             [
              0.2222222222222222,
              "#7201a8"
             ],
             [
              0.3333333333333333,
              "#9c179e"
             ],
             [
              0.4444444444444444,
              "#bd3786"
             ],
             [
              0.5555555555555556,
              "#d8576b"
             ],
             [
              0.6666666666666666,
              "#ed7953"
             ],
             [
              0.7777777777777778,
              "#fb9f3a"
             ],
             [
              0.8888888888888888,
              "#fdca26"
             ],
             [
              1,
              "#f0f921"
             ]
            ],
            "type": "histogram2d"
           }
          ],
          "histogram2dcontour": [
           {
            "colorbar": {
             "outlinewidth": 0,
             "ticks": ""
            },
            "colorscale": [
             [
              0,
              "#0d0887"
             ],
             [
              0.1111111111111111,
              "#46039f"
             ],
             [
              0.2222222222222222,
              "#7201a8"
             ],
             [
              0.3333333333333333,
              "#9c179e"
             ],
             [
              0.4444444444444444,
              "#bd3786"
             ],
             [
              0.5555555555555556,
              "#d8576b"
             ],
             [
              0.6666666666666666,
              "#ed7953"
             ],
             [
              0.7777777777777778,
              "#fb9f3a"
             ],
             [
              0.8888888888888888,
              "#fdca26"
             ],
             [
              1,
              "#f0f921"
             ]
            ],
            "type": "histogram2dcontour"
           }
          ],
          "mesh3d": [
           {
            "colorbar": {
             "outlinewidth": 0,
             "ticks": ""
            },
            "type": "mesh3d"
           }
          ],
          "parcoords": [
           {
            "line": {
             "colorbar": {
              "outlinewidth": 0,
              "ticks": ""
             }
            },
            "type": "parcoords"
           }
          ],
          "pie": [
           {
            "automargin": true,
            "type": "pie"
           }
          ],
          "scatter": [
           {
            "fillpattern": {
             "fillmode": "overlay",
             "size": 10,
             "solidity": 0.2
            },
            "type": "scatter"
           }
          ],
          "scatter3d": [
           {
            "line": {
             "colorbar": {
              "outlinewidth": 0,
              "ticks": ""
             }
            },
            "marker": {
             "colorbar": {
              "outlinewidth": 0,
              "ticks": ""
             }
            },
            "type": "scatter3d"
           }
          ],
          "scattercarpet": [
           {
            "marker": {
             "colorbar": {
              "outlinewidth": 0,
              "ticks": ""
             }
            },
            "type": "scattercarpet"
           }
          ],
          "scattergeo": [
           {
            "marker": {
             "colorbar": {
              "outlinewidth": 0,
              "ticks": ""
             }
            },
            "type": "scattergeo"
           }
          ],
          "scattergl": [
           {
            "marker": {
             "colorbar": {
              "outlinewidth": 0,
              "ticks": ""
             }
            },
            "type": "scattergl"
           }
          ],
          "scattermapbox": [
           {
            "marker": {
             "colorbar": {
              "outlinewidth": 0,
              "ticks": ""
             }
            },
            "type": "scattermapbox"
           }
          ],
          "scatterpolar": [
           {
            "marker": {
             "colorbar": {
              "outlinewidth": 0,
              "ticks": ""
             }
            },
            "type": "scatterpolar"
           }
          ],
          "scatterpolargl": [
           {
            "marker": {
             "colorbar": {
              "outlinewidth": 0,
              "ticks": ""
             }
            },
            "type": "scatterpolargl"
           }
          ],
          "scatterternary": [
           {
            "marker": {
             "colorbar": {
              "outlinewidth": 0,
              "ticks": ""
             }
            },
            "type": "scatterternary"
           }
          ],
          "surface": [
           {
            "colorbar": {
             "outlinewidth": 0,
             "ticks": ""
            },
            "colorscale": [
             [
              0,
              "#0d0887"
             ],
             [
              0.1111111111111111,
              "#46039f"
             ],
             [
              0.2222222222222222,
              "#7201a8"
             ],
             [
              0.3333333333333333,
              "#9c179e"
             ],
             [
              0.4444444444444444,
              "#bd3786"
             ],
             [
              0.5555555555555556,
              "#d8576b"
             ],
             [
              0.6666666666666666,
              "#ed7953"
             ],
             [
              0.7777777777777778,
              "#fb9f3a"
             ],
             [
              0.8888888888888888,
              "#fdca26"
             ],
             [
              1,
              "#f0f921"
             ]
            ],
            "type": "surface"
           }
          ],
          "table": [
           {
            "cells": {
             "fill": {
              "color": "#EBF0F8"
             },
             "line": {
              "color": "white"
             }
            },
            "header": {
             "fill": {
              "color": "#C8D4E3"
             },
             "line": {
              "color": "white"
             }
            },
            "type": "table"
           }
          ]
         },
         "layout": {
          "annotationdefaults": {
           "arrowcolor": "#2a3f5f",
           "arrowhead": 0,
           "arrowwidth": 1
          },
          "autotypenumbers": "strict",
          "coloraxis": {
           "colorbar": {
            "outlinewidth": 0,
            "ticks": ""
           }
          },
          "colorscale": {
           "diverging": [
            [
             0,
             "#8e0152"
            ],
            [
             0.1,
             "#c51b7d"
            ],
            [
             0.2,
             "#de77ae"
            ],
            [
             0.3,
             "#f1b6da"
            ],
            [
             0.4,
             "#fde0ef"
            ],
            [
             0.5,
             "#f7f7f7"
            ],
            [
             0.6,
             "#e6f5d0"
            ],
            [
             0.7,
             "#b8e186"
            ],
            [
             0.8,
             "#7fbc41"
            ],
            [
             0.9,
             "#4d9221"
            ],
            [
             1,
             "#276419"
            ]
           ],
           "sequential": [
            [
             0,
             "#0d0887"
            ],
            [
             0.1111111111111111,
             "#46039f"
            ],
            [
             0.2222222222222222,
             "#7201a8"
            ],
            [
             0.3333333333333333,
             "#9c179e"
            ],
            [
             0.4444444444444444,
             "#bd3786"
            ],
            [
             0.5555555555555556,
             "#d8576b"
            ],
            [
             0.6666666666666666,
             "#ed7953"
            ],
            [
             0.7777777777777778,
             "#fb9f3a"
            ],
            [
             0.8888888888888888,
             "#fdca26"
            ],
            [
             1,
             "#f0f921"
            ]
           ],
           "sequentialminus": [
            [
             0,
             "#0d0887"
            ],
            [
             0.1111111111111111,
             "#46039f"
            ],
            [
             0.2222222222222222,
             "#7201a8"
            ],
            [
             0.3333333333333333,
             "#9c179e"
            ],
            [
             0.4444444444444444,
             "#bd3786"
            ],
            [
             0.5555555555555556,
             "#d8576b"
            ],
            [
             0.6666666666666666,
             "#ed7953"
            ],
            [
             0.7777777777777778,
             "#fb9f3a"
            ],
            [
             0.8888888888888888,
             "#fdca26"
            ],
            [
             1,
             "#f0f921"
            ]
           ]
          },
          "colorway": [
           "#636efa",
           "#EF553B",
           "#00cc96",
           "#ab63fa",
           "#FFA15A",
           "#19d3f3",
           "#FF6692",
           "#B6E880",
           "#FF97FF",
           "#FECB52"
          ],
          "font": {
           "color": "#2a3f5f"
          },
          "geo": {
           "bgcolor": "white",
           "lakecolor": "white",
           "landcolor": "white",
           "showlakes": true,
           "showland": true,
           "subunitcolor": "#C8D4E3"
          },
          "hoverlabel": {
           "align": "left"
          },
          "hovermode": "closest",
          "mapbox": {
           "style": "light"
          },
          "paper_bgcolor": "white",
          "plot_bgcolor": "white",
          "polar": {
           "angularaxis": {
            "gridcolor": "#EBF0F8",
            "linecolor": "#EBF0F8",
            "ticks": ""
           },
           "bgcolor": "white",
           "radialaxis": {
            "gridcolor": "#EBF0F8",
            "linecolor": "#EBF0F8",
            "ticks": ""
           }
          },
          "scene": {
           "xaxis": {
            "backgroundcolor": "white",
            "gridcolor": "#DFE8F3",
            "gridwidth": 2,
            "linecolor": "#EBF0F8",
            "showbackground": true,
            "ticks": "",
            "zerolinecolor": "#EBF0F8"
           },
           "yaxis": {
            "backgroundcolor": "white",
            "gridcolor": "#DFE8F3",
            "gridwidth": 2,
            "linecolor": "#EBF0F8",
            "showbackground": true,
            "ticks": "",
            "zerolinecolor": "#EBF0F8"
           },
           "zaxis": {
            "backgroundcolor": "white",
            "gridcolor": "#DFE8F3",
            "gridwidth": 2,
            "linecolor": "#EBF0F8",
            "showbackground": true,
            "ticks": "",
            "zerolinecolor": "#EBF0F8"
           }
          },
          "shapedefaults": {
           "line": {
            "color": "#2a3f5f"
           }
          },
          "ternary": {
           "aaxis": {
            "gridcolor": "#DFE8F3",
            "linecolor": "#A2B1C6",
            "ticks": ""
           },
           "baxis": {
            "gridcolor": "#DFE8F3",
            "linecolor": "#A2B1C6",
            "ticks": ""
           },
           "bgcolor": "white",
           "caxis": {
            "gridcolor": "#DFE8F3",
            "linecolor": "#A2B1C6",
            "ticks": ""
           }
          },
          "title": {
           "x": 0.05
          },
          "xaxis": {
           "automargin": true,
           "gridcolor": "#EBF0F8",
           "linecolor": "#EBF0F8",
           "ticks": "",
           "title": {
            "standoff": 15
           },
           "zerolinecolor": "#EBF0F8",
           "zerolinewidth": 2
          },
          "yaxis": {
           "automargin": true,
           "gridcolor": "#EBF0F8",
           "linecolor": "#EBF0F8",
           "ticks": "",
           "title": {
            "standoff": 15
           },
           "zerolinecolor": "#EBF0F8",
           "zerolinewidth": 2
          }
         }
        },
        "title": {
         "font": {
          "color": "Black",
          "size": 22
         },
         "text": "Topic Word Scores",
         "x": 0.5,
         "xanchor": "center",
         "yanchor": "top"
        },
        "width": 1000,
        "xaxis": {
         "anchor": "y",
         "domain": [
          0,
          0.175
         ],
         "showgrid": true
        },
        "xaxis2": {
         "anchor": "y2",
         "domain": [
          0.275,
          0.45
         ],
         "showgrid": true
        },
        "xaxis3": {
         "anchor": "y3",
         "domain": [
          0.55,
          0.7250000000000001
         ],
         "showgrid": true
        },
        "xaxis4": {
         "anchor": "y4",
         "domain": [
          0.825,
          1
         ],
         "showgrid": true
        },
        "xaxis5": {
         "anchor": "y5",
         "domain": [
          0,
          0.175
         ],
         "showgrid": true
        },
        "xaxis6": {
         "anchor": "y6",
         "domain": [
          0.275,
          0.45
         ],
         "showgrid": true
        },
        "xaxis7": {
         "anchor": "y7",
         "domain": [
          0.55,
          0.7250000000000001
         ],
         "showgrid": true
        },
        "xaxis8": {
         "anchor": "y8",
         "domain": [
          0.825,
          1
         ],
         "showgrid": true
        },
        "yaxis": {
         "anchor": "x",
         "domain": [
          0.6000000000000001,
          1
         ],
         "showgrid": true
        },
        "yaxis2": {
         "anchor": "x2",
         "domain": [
          0.6000000000000001,
          1
         ],
         "showgrid": true
        },
        "yaxis3": {
         "anchor": "x3",
         "domain": [
          0.6000000000000001,
          1
         ],
         "showgrid": true
        },
        "yaxis4": {
         "anchor": "x4",
         "domain": [
          0.6000000000000001,
          1
         ],
         "showgrid": true
        },
        "yaxis5": {
         "anchor": "x5",
         "domain": [
          0,
          0.4
         ],
         "showgrid": true
        },
        "yaxis6": {
         "anchor": "x6",
         "domain": [
          0,
          0.4
         ],
         "showgrid": true
        },
        "yaxis7": {
         "anchor": "x7",
         "domain": [
          0,
          0.4
         ],
         "showgrid": true
        },
        "yaxis8": {
         "anchor": "x8",
         "domain": [
          0,
          0.4
         ],
         "showgrid": true
        }
       }
      }
     },
     "metadata": {},
     "output_type": "display_data"
    }
   ],
   "source": [
    "topic_model.visualize_barchart()"
   ]
  }
 ],
 "metadata": {
  "kernelspec": {
   "display_name": "Python 3",
   "language": "python",
   "name": "python3"
  },
  "language_info": {
   "codemirror_mode": {
    "name": "ipython",
    "version": 3
   },
   "file_extension": ".py",
   "mimetype": "text/x-python",
   "name": "python",
   "nbconvert_exporter": "python",
   "pygments_lexer": "ipython3",
   "version": "3.11.7"
  },
  "orig_nbformat": 4
 },
 "nbformat": 4,
 "nbformat_minor": 2
}
